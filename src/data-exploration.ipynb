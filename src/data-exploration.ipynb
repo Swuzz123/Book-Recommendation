{
 "cells": [
  {
   "cell_type": "code",
   "id": "initial_id",
   "metadata": {
    "collapsed": true,
    "ExecuteTime": {
     "end_time": "2025-07-12T15:57:32.920184Z",
     "start_time": "2025-07-12T15:57:30.113233Z"
    }
   },
   "source": [
    "# import kagglehub\n",
    "#\n",
    "# # Download latest version\n",
    "# path = kagglehub.dataset_download(\"dylanjcastillo/7k-books-with-metadata\")\n",
    "#\n",
    "# print(\"Path to dataset files:\", path)"
   ],
   "outputs": [
    {
     "name": "stdout",
     "output_type": "stream",
     "text": [
      "Downloading from https://www.kaggle.com/api/v1/datasets/download/dylanjcastillo/7k-books-with-metadata?dataset_version_number=3...\n"
     ]
    },
    {
     "name": "stderr",
     "output_type": "stream",
     "text": [
      "100%|██████████| 1.47M/1.47M [00:01<00:00, 1.35MB/s]"
     ]
    },
    {
     "name": "stdout",
     "output_type": "stream",
     "text": [
      "Extracting files...\n",
      "Path to dataset files: C:\\Users\\ngmin\\.cache\\kagglehub\\datasets\\dylanjcastillo\\7k-books-with-metadata\\versions\\3\n"
     ]
    },
    {
     "name": "stderr",
     "output_type": "stream",
     "text": [
      "\n"
     ]
    }
   ],
   "execution_count": 13
  },
  {
   "metadata": {
    "ExecuteTime": {
     "end_time": "2025-07-17T15:52:38.882277Z",
     "start_time": "2025-07-17T15:52:38.871003Z"
    }
   },
   "cell_type": "code",
   "source": [
    "import pandas as pd\n",
    "import numpy as np\n",
    "import matplotlib.pyplot as plt\n",
    "import seaborn as sns"
   ],
   "id": "9ab06e26dc4afde8",
   "outputs": [],
   "execution_count": 1
  },
  {
   "metadata": {
    "ExecuteTime": {
     "end_time": "2025-07-17T15:52:38.943770Z",
     "start_time": "2025-07-17T15:52:38.938427Z"
    }
   },
   "cell_type": "code",
   "source": "PATH = 'C:\\\\Users\\\\ngmin\\\\.cache\\kagglehub\\datasets\\\\dylanjcastillo\\\\7k-books-with-metadata\\\\versions\\\\3'",
   "id": "5ed8c8c4c9cf385b",
   "outputs": [],
   "execution_count": 3
  },
  {
   "metadata": {
    "ExecuteTime": {
     "end_time": "2025-07-17T15:52:39.104486Z",
     "start_time": "2025-07-17T15:52:38.969043Z"
    }
   },
   "cell_type": "code",
   "source": "books = pd.read_csv(f\"{PATH}/books.csv\")",
   "id": "8a77734bd81b0e48",
   "outputs": [],
   "execution_count": 4
  },
  {
   "metadata": {
    "ExecuteTime": {
     "end_time": "2025-07-17T15:52:40.417799Z",
     "start_time": "2025-07-17T15:52:40.388282Z"
    }
   },
   "cell_type": "code",
   "source": "books.head()",
   "id": "cb65c8c2972031d1",
   "outputs": [
    {
     "data": {
      "text/plain": [
       "          isbn13      isbn10           title subtitle  \\\n",
       "0  9780002005883  0002005883          Gilead      NaN   \n",
       "1  9780002261982  0002261987    Spider's Web  A Novel   \n",
       "2  9780006163831  0006163831    The One Tree      NaN   \n",
       "3  9780006178736  0006178731  Rage of angels      NaN   \n",
       "4  9780006280897  0006280897  The Four Loves      NaN   \n",
       "\n",
       "                           authors                     categories  \\\n",
       "0               Marilynne Robinson                        Fiction   \n",
       "1  Charles Osborne;Agatha Christie  Detective and mystery stories   \n",
       "2             Stephen R. Donaldson               American fiction   \n",
       "3                   Sidney Sheldon                        Fiction   \n",
       "4              Clive Staples Lewis                 Christian life   \n",
       "\n",
       "                                           thumbnail  \\\n",
       "0  http://books.google.com/books/content?id=KQZCP...   \n",
       "1  http://books.google.com/books/content?id=gA5GP...   \n",
       "2  http://books.google.com/books/content?id=OmQaw...   \n",
       "3  http://books.google.com/books/content?id=FKo2T...   \n",
       "4  http://books.google.com/books/content?id=XhQ5X...   \n",
       "\n",
       "                                         description  published_year  \\\n",
       "0  A NOVEL THAT READERS and critics have been eag...          2004.0   \n",
       "1  A new 'Christie for Christmas' -- a full-lengt...          2000.0   \n",
       "2  Volume Two of Stephen Donaldson's acclaimed se...          1982.0   \n",
       "3  A memorable, mesmerizing heroine Jennifer -- b...          1993.0   \n",
       "4  Lewis' work on the nature of love divides love...          2002.0   \n",
       "\n",
       "   average_rating  num_pages  ratings_count  \n",
       "0            3.85      247.0          361.0  \n",
       "1            3.83      241.0         5164.0  \n",
       "2            3.97      479.0          172.0  \n",
       "3            3.93      512.0        29532.0  \n",
       "4            4.15      170.0        33684.0  "
      ],
      "text/html": [
       "<div>\n",
       "<style scoped>\n",
       "    .dataframe tbody tr th:only-of-type {\n",
       "        vertical-align: middle;\n",
       "    }\n",
       "\n",
       "    .dataframe tbody tr th {\n",
       "        vertical-align: top;\n",
       "    }\n",
       "\n",
       "    .dataframe thead th {\n",
       "        text-align: right;\n",
       "    }\n",
       "</style>\n",
       "<table border=\"1\" class=\"dataframe\">\n",
       "  <thead>\n",
       "    <tr style=\"text-align: right;\">\n",
       "      <th></th>\n",
       "      <th>isbn13</th>\n",
       "      <th>isbn10</th>\n",
       "      <th>title</th>\n",
       "      <th>subtitle</th>\n",
       "      <th>authors</th>\n",
       "      <th>categories</th>\n",
       "      <th>thumbnail</th>\n",
       "      <th>description</th>\n",
       "      <th>published_year</th>\n",
       "      <th>average_rating</th>\n",
       "      <th>num_pages</th>\n",
       "      <th>ratings_count</th>\n",
       "    </tr>\n",
       "  </thead>\n",
       "  <tbody>\n",
       "    <tr>\n",
       "      <th>0</th>\n",
       "      <td>9780002005883</td>\n",
       "      <td>0002005883</td>\n",
       "      <td>Gilead</td>\n",
       "      <td>NaN</td>\n",
       "      <td>Marilynne Robinson</td>\n",
       "      <td>Fiction</td>\n",
       "      <td>http://books.google.com/books/content?id=KQZCP...</td>\n",
       "      <td>A NOVEL THAT READERS and critics have been eag...</td>\n",
       "      <td>2004.0</td>\n",
       "      <td>3.85</td>\n",
       "      <td>247.0</td>\n",
       "      <td>361.0</td>\n",
       "    </tr>\n",
       "    <tr>\n",
       "      <th>1</th>\n",
       "      <td>9780002261982</td>\n",
       "      <td>0002261987</td>\n",
       "      <td>Spider's Web</td>\n",
       "      <td>A Novel</td>\n",
       "      <td>Charles Osborne;Agatha Christie</td>\n",
       "      <td>Detective and mystery stories</td>\n",
       "      <td>http://books.google.com/books/content?id=gA5GP...</td>\n",
       "      <td>A new 'Christie for Christmas' -- a full-lengt...</td>\n",
       "      <td>2000.0</td>\n",
       "      <td>3.83</td>\n",
       "      <td>241.0</td>\n",
       "      <td>5164.0</td>\n",
       "    </tr>\n",
       "    <tr>\n",
       "      <th>2</th>\n",
       "      <td>9780006163831</td>\n",
       "      <td>0006163831</td>\n",
       "      <td>The One Tree</td>\n",
       "      <td>NaN</td>\n",
       "      <td>Stephen R. Donaldson</td>\n",
       "      <td>American fiction</td>\n",
       "      <td>http://books.google.com/books/content?id=OmQaw...</td>\n",
       "      <td>Volume Two of Stephen Donaldson's acclaimed se...</td>\n",
       "      <td>1982.0</td>\n",
       "      <td>3.97</td>\n",
       "      <td>479.0</td>\n",
       "      <td>172.0</td>\n",
       "    </tr>\n",
       "    <tr>\n",
       "      <th>3</th>\n",
       "      <td>9780006178736</td>\n",
       "      <td>0006178731</td>\n",
       "      <td>Rage of angels</td>\n",
       "      <td>NaN</td>\n",
       "      <td>Sidney Sheldon</td>\n",
       "      <td>Fiction</td>\n",
       "      <td>http://books.google.com/books/content?id=FKo2T...</td>\n",
       "      <td>A memorable, mesmerizing heroine Jennifer -- b...</td>\n",
       "      <td>1993.0</td>\n",
       "      <td>3.93</td>\n",
       "      <td>512.0</td>\n",
       "      <td>29532.0</td>\n",
       "    </tr>\n",
       "    <tr>\n",
       "      <th>4</th>\n",
       "      <td>9780006280897</td>\n",
       "      <td>0006280897</td>\n",
       "      <td>The Four Loves</td>\n",
       "      <td>NaN</td>\n",
       "      <td>Clive Staples Lewis</td>\n",
       "      <td>Christian life</td>\n",
       "      <td>http://books.google.com/books/content?id=XhQ5X...</td>\n",
       "      <td>Lewis' work on the nature of love divides love...</td>\n",
       "      <td>2002.0</td>\n",
       "      <td>4.15</td>\n",
       "      <td>170.0</td>\n",
       "      <td>33684.0</td>\n",
       "    </tr>\n",
       "  </tbody>\n",
       "</table>\n",
       "</div>"
      ]
     },
     "execution_count": 5,
     "metadata": {},
     "output_type": "execute_result"
    }
   ],
   "execution_count": 5
  },
  {
   "metadata": {},
   "cell_type": "markdown",
   "source": "### **1. Check missing values**",
   "id": "70acce9d982278fe"
  },
  {
   "metadata": {
    "ExecuteTime": {
     "end_time": "2025-07-17T15:52:41.044023Z",
     "start_time": "2025-07-17T15:52:41.028511Z"
    }
   },
   "cell_type": "code",
   "source": "print(\"The shape of the data:\", books.shape)",
   "id": "482f0e9a58f956f7",
   "outputs": [
    {
     "name": "stdout",
     "output_type": "stream",
     "text": [
      "The shape of the data: (6810, 12)\n"
     ]
    }
   ],
   "execution_count": 6
  },
  {
   "metadata": {
    "ExecuteTime": {
     "end_time": "2025-07-17T15:52:41.732161Z",
     "start_time": "2025-07-17T15:52:41.695707Z"
    }
   },
   "cell_type": "code",
   "source": "books.isnull().sum().sort_values(ascending=False)",
   "id": "3905fc2959f55a55",
   "outputs": [
    {
     "data": {
      "text/plain": [
       "subtitle          4429\n",
       "thumbnail          329\n",
       "description        262\n",
       "categories          99\n",
       "authors             72\n",
       "average_rating      43\n",
       "ratings_count       43\n",
       "num_pages           43\n",
       "published_year       6\n",
       "title                0\n",
       "isbn13               0\n",
       "isbn10               0\n",
       "dtype: int64"
      ]
     },
     "execution_count": 7,
     "metadata": {},
     "output_type": "execute_result"
    }
   ],
   "execution_count": 7
  },
  {
   "metadata": {},
   "cell_type": "markdown",
   "source": [
    "You can see in the dataset when we check missing values:\n",
    "- **subtitle:** the feature having a lot of missing observations accounts 2/3 all dataset, so maybe the figure is useless.\n",
    "- **description (important column):** the feature has 4% missing values, it's quite good; but we need do some deeper investigation, missingness is not biased in some way. It's really important to check whether missing values have a pattern because this can imply some sort of bias if you find the missing values are linked to particular characteristics about saying the books that we have in our dataset."
   ],
   "id": "247747ea9b580b66"
  },
  {
   "metadata": {},
   "cell_type": "markdown",
   "source": "### 2. Check the categories column",
   "id": "76af1369da08baaa"
  },
  {
   "metadata": {},
   "cell_type": "markdown",
   "source": "Why we need to check the 'categories' column ? The column is a part of recommender, so if the feature has many distinct categories, it may lead to a sparse representation when encoded, which increases computational cost and memory usage. Moreover, it can cause overfitting, especially if some categories appear very infrequently. By checking this column, we can decide whether to group similar categories into broader classes to reduce noise, improve generalization, and enhance model performance.",
   "id": "ad16d2c503f9e8fe"
  },
  {
   "metadata": {
    "ExecuteTime": {
     "end_time": "2025-07-17T15:52:42.406508Z",
     "start_time": "2025-07-17T15:52:42.392949Z"
    }
   },
   "cell_type": "code",
   "source": "print(\"Distinct values in the 'categories' column:\", books['categories'].nunique())",
   "id": "5637c5d99f241883",
   "outputs": [
    {
     "name": "stdout",
     "output_type": "stream",
     "text": [
      "Distinct values in the 'categories' column: 567\n"
     ]
    }
   ],
   "execution_count": 8
  },
  {
   "metadata": {},
   "cell_type": "markdown",
   "source": "You can see that there are many distinct categories, we think they are not useful values so we need to clean or standardlize in some way in order to make it useful",
   "id": "b7125c567be2c0bd"
  },
  {
   "metadata": {},
   "cell_type": "markdown",
   "source": "### **3. Pattern of missing data**",
   "id": "4eccfd6ab7376971"
  },
  {
   "metadata": {
    "ExecuteTime": {
     "end_time": "2025-07-17T15:52:45.186586Z",
     "start_time": "2025-07-17T15:52:43.041810Z"
    }
   },
   "cell_type": "code",
   "source": [
    "plt.figure(figsize=(10,7))\n",
    "\n",
    "ax = plt.axes()\n",
    "sns.heatmap(books.isna().transpose(), ax=ax, cbar=False, cmap=\"YlGnBu\")\n",
    "plt.xlabel('Columns')\n",
    "plt.ylabel('Missing values')"
   ],
   "id": "d637c8bf66633802",
   "outputs": [
    {
     "data": {
      "text/plain": [
       "Text(95.58159722222221, 0.5, 'Missing values')"
      ]
     },
     "execution_count": 9,
     "metadata": {},
     "output_type": "execute_result"
    },
    {
     "data": {
      "text/plain": [
       "<Figure size 1000x700 with 1 Axes>"
      ],
      "image/png": "[encoded data removed]"
     },
     "metadata": {},
     "output_type": "display_data"
    }
   ],
   "execution_count": 9
  },
  {
   "metadata": {},
   "cell_type": "markdown",
   "source": [
    "You can see in there:\n",
    "- **subtitle** is mostly missing so we can kind of write that variable off\n",
    "- **categories, thumbnail, description** are mostly looking random\n",
    "- **bottom variables (average_rating, num_pages, rating_count)**: the features imply that when one of variables are missed, remaining variables are missed too. Probably this dataset is from another dataset and that dataset didn't contain all the books in the bigger books. Books having missing values probably are new or have other characteristics (ex: high/low rating). This can make a bias in analysis step, because missing books which are dependent on their characters can not be random, which leads to research's results"
   ],
   "id": "e498084fb418866f"
  },
  {
   "metadata": {
    "ExecuteTime": {
     "end_time": "2025-07-17T15:52:45.344678Z",
     "start_time": "2025-07-17T15:52:45.318614Z"
    }
   },
   "cell_type": "code",
   "source": [
    "books['missing_description'] = np.where(books['description'].isnull(), 1, 0)\n",
    "books['age_of_books'] = 2025 - books['published_year']"
   ],
   "id": "bf0196c00f2fb97c",
   "outputs": [],
   "execution_count": 10
  },
  {
   "metadata": {},
   "cell_type": "markdown",
   "source": "In this, we use Spearman method to measure non-linear correlation and does not require  normally distributed data, while Pearson only measures linear correlation and assumes normally distributed data. With the columns like **missing_description** and **age_of_books**, Spearman (based on ranks) is more flexible, handling outlier data/ non-continuous values well.",
   "id": "40984a2d891fa3d0"
  },
  {
   "metadata": {
    "ExecuteTime": {
     "end_time": "2025-07-17T15:52:45.928310Z",
     "start_time": "2025-07-17T15:52:45.491505Z"
    }
   },
   "cell_type": "code",
   "source": [
    "columns_of_interest = ['num_pages', 'age_of_books', 'missing_description', 'average_rating']\n",
    "\n",
    "correlation_matrix = books[columns_of_interest].corr(method='spearman')\n",
    "\n",
    "sns.set_theme(style=\"white\")\n",
    "plt.figure(figsize=(10,7))\n",
    "heatmap = sns.heatmap(correlation_matrix, annot=True, fmt=\".2f\", cmap=\"coolwarm\",\n",
    "                      cbar_kws={\"label\": \"Spearman correlation\"})\n",
    "heatmap.set_title(\"Correlation heatmap\")\n",
    "plt.show()"
   ],
   "id": "a6d0d6f4669f7444",
   "outputs": [
    {
     "data": {
      "text/plain": [
       "<Figure size 1000x700 with 2 Axes>"
      ],
      "image/png": "[encoded data removed]"
     },
     "metadata": {},
     "output_type": "display_data"
    }
   ],
   "execution_count": 11
  },
  {
   "metadata": {},
   "cell_type": "markdown",
   "source": "Spearman correlation analysis shows that the relationships between variables such as **number of pages, age of books, missing descriptions, and average rating** are all weak (correlation values close to 0). This indicates that removing books with missing descriptions is unlikely to introduce significant bias into the recommender system, and our dataset remains fairly representative in terms of book length, age, and rating.",
   "id": "bfc52cdf25944d5e"
  },
  {
   "metadata": {
    "ExecuteTime": {
     "end_time": "2025-07-17T15:52:46.050693Z",
     "start_time": "2025-07-17T15:52:46.008685Z"
    }
   },
   "cell_type": "code",
   "source": [
    "books[(books['description'].isnull()) |\n",
    "      (books['num_pages'].isnull()) |\n",
    "      (books['average_rating'].isnull()) |\n",
    "      (books['published_year'].isnull())]"
   ],
   "id": "d7ea1ad8b7c1f420",
   "outputs": [
    {
     "data": {
      "text/plain": [
       "             isbn13      isbn10  \\\n",
       "37    9780006906018  000690601X   \n",
       "60    9780007127740  000712774X   \n",
       "99    9780020442806  0020442807   \n",
       "102   9780023513206  0023513209   \n",
       "105   9780026995016  0026995018   \n",
       "...             ...         ...   \n",
       "6787  9783464371640  3464371646   \n",
       "6788  9783540292128  3540292128   \n",
       "6798  9787506435673  7506435675   \n",
       "6806  9788185944609  8185944601   \n",
       "6807  9788445074879  8445074873   \n",
       "\n",
       "                                                  title  \\\n",
       "37                    The Princess of the Chalet School   \n",
       "60                                  The illustrated man   \n",
       "99    The Chronicles of Narnia: Lion, the witch and ...   \n",
       "102                                   Reason in History   \n",
       "105                                             Spandau   \n",
       "...                                                 ...   \n",
       "6787                                        About a Boy   \n",
       "6788             Enzyme-Catalyzed Synthesis of Polymers   \n",
       "6798                                         Good Fight   \n",
       "6806                               Secrets Of The Heart   \n",
       "6807                                     Fahrenheit 451   \n",
       "\n",
       "                                               subtitle  \\\n",
       "37                                                  NaN   \n",
       "60                                                  NaN   \n",
       "99                                                  NaN   \n",
       "102   A General Introduction to the Philosophy of Hi...   \n",
       "105                                  The Secret Diaries   \n",
       "...                                                 ...   \n",
       "6787                                                NaN   \n",
       "6788                                                NaN   \n",
       "6798                                                NaN   \n",
       "6806                                                NaN   \n",
       "6807                                                NaN   \n",
       "\n",
       "                                         authors        categories  \\\n",
       "37                        Elinor Mary Brent-Dyer  Juvenile Fiction   \n",
       "60                                  Ray Bradbury           Fiction   \n",
       "99                           Clive Staples Lewis       Fairy tales   \n",
       "102                Georg Wilhelm Friedrich Hegel        Philosophy   \n",
       "105                                 Albert Speer           History   \n",
       "...                                          ...               ...   \n",
       "6787                                 Nick Hornby               NaN   \n",
       "6788  Shiro Kobayashi;Helmut Ritter;David Kaplan           Science   \n",
       "6798                   Judd Winick;Matthew Clark  Juvenile Fiction   \n",
       "6806                               Khalil Gibran         Mysticism   \n",
       "6807                                Ray Bradbury      Book burning   \n",
       "\n",
       "                                              thumbnail  \\\n",
       "37    http://books.google.com/books/content?id=EJcQP...   \n",
       "60    http://books.google.com/books/content?id=kePql...   \n",
       "99                                                  NaN   \n",
       "102   http://books.google.com/books/content?id=BCvcY...   \n",
       "105                                                 NaN   \n",
       "...                                                 ...   \n",
       "6787  http://books.google.com/books/content?id=PuDYw...   \n",
       "6788  http://books.google.com/books/content?id=WXOym...   \n",
       "6798  http://books.google.com/books/content?id=xGPZA...   \n",
       "6806  http://books.google.com/books/content?id=XcrVp...   \n",
       "6807                                                NaN   \n",
       "\n",
       "                                            description  published_year  \\\n",
       "37                                                  NaN          2000.0   \n",
       "60                                                  NaN          2002.0   \n",
       "99                                                  NaN          1978.0   \n",
       "102                                                 NaN          1953.0   \n",
       "105                                                 NaN          1976.0   \n",
       "...                                                 ...             ...   \n",
       "6787                                                NaN          2002.0   \n",
       "6788                                                NaN          2006.0   \n",
       "6798  Presents the adventures of a new group of hero...          2007.0   \n",
       "6806                                                NaN          1993.0   \n",
       "6807                                                NaN          2004.0   \n",
       "\n",
       "      average_rating  num_pages  ratings_count  missing_description  \\\n",
       "37              4.10      159.0          446.0                    1   \n",
       "60              4.14      186.0        56781.0                    1   \n",
       "99              4.26     1425.0         1446.0                    1   \n",
       "102             3.64       95.0          430.0                    1   \n",
       "105             4.12      463.0            6.0                    1   \n",
       "...              ...        ...            ...                  ...   \n",
       "6787            3.80      256.0          155.0                    1   \n",
       "6788            0.00      254.0            0.0                    1   \n",
       "6798             NaN        NaN            NaN                    0   \n",
       "6806            4.08       74.0          324.0                    1   \n",
       "6807            3.98      186.0         5733.0                    1   \n",
       "\n",
       "      age_of_books  \n",
       "37            25.0  \n",
       "60            23.0  \n",
       "99            47.0  \n",
       "102           72.0  \n",
       "105           49.0  \n",
       "...            ...  \n",
       "6787          23.0  \n",
       "6788          19.0  \n",
       "6798          18.0  \n",
       "6806          32.0  \n",
       "6807          21.0  \n",
       "\n",
       "[303 rows x 14 columns]"
      ],
      "text/html": [
       "<div>\n",
       "<style scoped>\n",
       "    .dataframe tbody tr th:only-of-type {\n",
       "        vertical-align: middle;\n",
       "    }\n",
       "\n",
       "    .dataframe tbody tr th {\n",
       "        vertical-align: top;\n",
       "    }\n",
       "\n",
       "    .dataframe thead th {\n",
       "        text-align: right;\n",
       "    }\n",
       "</style>\n",
       "<table border=\"1\" class=\"dataframe\">\n",
       "  <thead>\n",
       "    <tr style=\"text-align: right;\">\n",
       "      <th></th>\n",
       "      <th>isbn13</th>\n",
       "      <th>isbn10</th>\n",
       "      <th>title</th>\n",
       "      <th>subtitle</th>\n",
       "      <th>authors</th>\n",
       "      <th>categories</th>\n",
       "      <th>thumbnail</th>\n",
       "      <th>description</th>\n",
       "      <th>published_year</th>\n",
       "      <th>average_rating</th>\n",
       "      <th>num_pages</th>\n",
       "      <th>ratings_count</th>\n",
       "      <th>missing_description</th>\n",
       "      <th>age_of_books</th>\n",
       "    </tr>\n",
       "  </thead>\n",
       "  <tbody>\n",
       "    <tr>\n",
       "      <th>37</th>\n",
       "      <td>9780006906018</td>\n",
       "      <td>000690601X</td>\n",
       "      <td>The Princess of the Chalet School</td>\n",
       "      <td>NaN</td>\n",
       "      <td>Elinor Mary Brent-Dyer</td>\n",
       "      <td>Juvenile Fiction</td>\n",
       "      <td>http://books.google.com/books/content?id=EJcQP...</td>\n",
       "      <td>NaN</td>\n",
       "      <td>2000.0</td>\n",
       "      <td>4.10</td>\n",
       "      <td>159.0</td>\n",
       "      <td>446.0</td>\n",
       "      <td>1</td>\n",
       "      <td>25.0</td>\n",
       "    </tr>\n",
       "    <tr>\n",
       "      <th>60</th>\n",
       "      <td>9780007127740</td>\n",
       "      <td>000712774X</td>\n",
       "      <td>The illustrated man</td>\n",
       "      <td>NaN</td>\n",
       "      <td>Ray Bradbury</td>\n",
       "      <td>Fiction</td>\n",
       "      <td>http://books.google.com/books/content?id=kePql...</td>\n",
       "      <td>NaN</td>\n",
       "      <td>2002.0</td>\n",
       "      <td>4.14</td>\n",
       "      <td>186.0</td>\n",
       "      <td>56781.0</td>\n",
       "      <td>1</td>\n",
       "      <td>23.0</td>\n",
       "    </tr>\n",
       "    <tr>\n",
       "      <th>99</th>\n",
       "      <td>9780020442806</td>\n",
       "      <td>0020442807</td>\n",
       "      <td>The Chronicles of Narnia: Lion, the witch and ...</td>\n",
       "      <td>NaN</td>\n",
       "      <td>Clive Staples Lewis</td>\n",
       "      <td>Fairy tales</td>\n",
       "      <td>NaN</td>\n",
       "      <td>NaN</td>\n",
       "      <td>1978.0</td>\n",
       "      <td>4.26</td>\n",
       "      <td>1425.0</td>\n",
       "      <td>1446.0</td>\n",
       "      <td>1</td>\n",
       "      <td>47.0</td>\n",
       "    </tr>\n",
       "    <tr>\n",
       "      <th>102</th>\n",
       "      <td>9780023513206</td>\n",
       "      <td>0023513209</td>\n",
       "      <td>Reason in History</td>\n",
       "      <td>A General Introduction to the Philosophy of Hi...</td>\n",
       "      <td>Georg Wilhelm Friedrich Hegel</td>\n",
       "      <td>Philosophy</td>\n",
       "      <td>http://books.google.com/books/content?id=BCvcY...</td>\n",
       "      <td>NaN</td>\n",
       "      <td>1953.0</td>\n",
       "      <td>3.64</td>\n",
       "      <td>95.0</td>\n",
       "      <td>430.0</td>\n",
       "      <td>1</td>\n",
       "      <td>72.0</td>\n",
       "    </tr>\n",
       "    <tr>\n",
       "      <th>105</th>\n",
       "      <td>9780026995016</td>\n",
       "      <td>0026995018</td>\n",
       "      <td>Spandau</td>\n",
       "      <td>The Secret Diaries</td>\n",
       "      <td>Albert Speer</td>\n",
       "      <td>History</td>\n",
       "      <td>NaN</td>\n",
       "      <td>NaN</td>\n",
       "      <td>1976.0</td>\n",
       "      <td>4.12</td>\n",
       "      <td>463.0</td>\n",
       "      <td>6.0</td>\n",
       "      <td>1</td>\n",
       "      <td>49.0</td>\n",
       "    </tr>\n",
       "    <tr>\n",
       "      <th>...</th>\n",
       "      <td>...</td>\n",
       "      <td>...</td>\n",
       "      <td>...</td>\n",
       "      <td>...</td>\n",
       "      <td>...</td>\n",
       "      <td>...</td>\n",
       "      <td>...</td>\n",
       "      <td>...</td>\n",
       "      <td>...</td>\n",
       "      <td>...</td>\n",
       "      <td>...</td>\n",
       "      <td>...</td>\n",
       "      <td>...</td>\n",
       "      <td>...</td>\n",
       "    </tr>\n",
       "    <tr>\n",
       "      <th>6787</th>\n",
       "      <td>9783464371640</td>\n",
       "      <td>3464371646</td>\n",
       "      <td>About a Boy</td>\n",
       "      <td>NaN</td>\n",
       "      <td>Nick Hornby</td>\n",
       "      <td>NaN</td>\n",
       "      <td>http://books.google.com/books/content?id=PuDYw...</td>\n",
       "      <td>NaN</td>\n",
       "      <td>2002.0</td>\n",
       "      <td>3.80</td>\n",
       "      <td>256.0</td>\n",
       "      <td>155.0</td>\n",
       "      <td>1</td>\n",
       "      <td>23.0</td>\n",
       "    </tr>\n",
       "    <tr>\n",
       "      <th>6788</th>\n",
       "      <td>9783540292128</td>\n",
       "      <td>3540292128</td>\n",
       "      <td>Enzyme-Catalyzed Synthesis of Polymers</td>\n",
       "      <td>NaN</td>\n",
       "      <td>Shiro Kobayashi;Helmut Ritter;David Kaplan</td>\n",
       "      <td>Science</td>\n",
       "      <td>http://books.google.com/books/content?id=WXOym...</td>\n",
       "      <td>NaN</td>\n",
       "      <td>2006.0</td>\n",
       "      <td>0.00</td>\n",
       "      <td>254.0</td>\n",
       "      <td>0.0</td>\n",
       "      <td>1</td>\n",
       "      <td>19.0</td>\n",
       "    </tr>\n",
       "    <tr>\n",
       "      <th>6798</th>\n",
       "      <td>9787506435673</td>\n",
       "      <td>7506435675</td>\n",
       "      <td>Good Fight</td>\n",
       "      <td>NaN</td>\n",
       "      <td>Judd Winick;Matthew Clark</td>\n",
       "      <td>Juvenile Fiction</td>\n",
       "      <td>http://books.google.com/books/content?id=xGPZA...</td>\n",
       "      <td>Presents the adventures of a new group of hero...</td>\n",
       "      <td>2007.0</td>\n",
       "      <td>NaN</td>\n",
       "      <td>NaN</td>\n",
       "      <td>NaN</td>\n",
       "      <td>0</td>\n",
       "      <td>18.0</td>\n",
       "    </tr>\n",
       "    <tr>\n",
       "      <th>6806</th>\n",
       "      <td>9788185944609</td>\n",
       "      <td>8185944601</td>\n",
       "      <td>Secrets Of The Heart</td>\n",
       "      <td>NaN</td>\n",
       "      <td>Khalil Gibran</td>\n",
       "      <td>Mysticism</td>\n",
       "      <td>http://books.google.com/books/content?id=XcrVp...</td>\n",
       "      <td>NaN</td>\n",
       "      <td>1993.0</td>\n",
       "      <td>4.08</td>\n",
       "      <td>74.0</td>\n",
       "      <td>324.0</td>\n",
       "      <td>1</td>\n",
       "      <td>32.0</td>\n",
       "    </tr>\n",
       "    <tr>\n",
       "      <th>6807</th>\n",
       "      <td>9788445074879</td>\n",
       "      <td>8445074873</td>\n",
       "      <td>Fahrenheit 451</td>\n",
       "      <td>NaN</td>\n",
       "      <td>Ray Bradbury</td>\n",
       "      <td>Book burning</td>\n",
       "      <td>NaN</td>\n",
       "      <td>NaN</td>\n",
       "      <td>2004.0</td>\n",
       "      <td>3.98</td>\n",
       "      <td>186.0</td>\n",
       "      <td>5733.0</td>\n",
       "      <td>1</td>\n",
       "      <td>21.0</td>\n",
       "    </tr>\n",
       "  </tbody>\n",
       "</table>\n",
       "<p>303 rows × 14 columns</p>\n",
       "</div>"
      ]
     },
     "execution_count": 12,
     "metadata": {},
     "output_type": "execute_result"
    }
   ],
   "execution_count": 12
  },
  {
   "metadata": {},
   "cell_type": "markdown",
   "source": "You can look the resulting of the dataframe, this consists of 303 missing rows which are under 5% of our dataset. So we can definitely get rid of these observations and not be confused too much.",
   "id": "85aa3fa635954810"
  },
  {
   "metadata": {
    "ExecuteTime": {
     "end_time": "2025-07-17T15:52:46.189523Z",
     "start_time": "2025-07-17T15:52:46.176347Z"
    }
   },
   "cell_type": "code",
   "source": [
    "book_not_missing = books[~(books['description'].isnull()) &\n",
    "                         ~(books['num_pages'].isnull()) &\n",
    "                         ~(books['average_rating'].isnull()) &\n",
    "                         ~(books['published_year'].isnull())]"
   ],
   "id": "308aa08458129ac2",
   "outputs": [],
   "execution_count": 13
  },
  {
   "metadata": {
    "ExecuteTime": {
     "end_time": "2025-07-17T15:52:46.549052Z",
     "start_time": "2025-07-17T15:52:46.515945Z"
    }
   },
   "cell_type": "code",
   "source": "book_not_missing.head()",
   "id": "65ed80ac0ad77962",
   "outputs": [
    {
     "data": {
      "text/plain": [
       "          isbn13      isbn10           title subtitle  \\\n",
       "0  9780002005883  0002005883          Gilead      NaN   \n",
       "1  9780002261982  0002261987    Spider's Web  A Novel   \n",
       "2  9780006163831  0006163831    The One Tree      NaN   \n",
       "3  9780006178736  0006178731  Rage of angels      NaN   \n",
       "4  9780006280897  0006280897  The Four Loves      NaN   \n",
       "\n",
       "                           authors                     categories  \\\n",
       "0               Marilynne Robinson                        Fiction   \n",
       "1  Charles Osborne;Agatha Christie  Detective and mystery stories   \n",
       "2             Stephen R. Donaldson               American fiction   \n",
       "3                   Sidney Sheldon                        Fiction   \n",
       "4              Clive Staples Lewis                 Christian life   \n",
       "\n",
       "                                           thumbnail  \\\n",
       "0  http://books.google.com/books/content?id=KQZCP...   \n",
       "1  http://books.google.com/books/content?id=gA5GP...   \n",
       "2  http://books.google.com/books/content?id=OmQaw...   \n",
       "3  http://books.google.com/books/content?id=FKo2T...   \n",
       "4  http://books.google.com/books/content?id=XhQ5X...   \n",
       "\n",
       "                                         description  published_year  \\\n",
       "0  A NOVEL THAT READERS and critics have been eag...          2004.0   \n",
       "1  A new 'Christie for Christmas' -- a full-lengt...          2000.0   \n",
       "2  Volume Two of Stephen Donaldson's acclaimed se...          1982.0   \n",
       "3  A memorable, mesmerizing heroine Jennifer -- b...          1993.0   \n",
       "4  Lewis' work on the nature of love divides love...          2002.0   \n",
       "\n",
       "   average_rating  num_pages  ratings_count  missing_description  age_of_books  \n",
       "0            3.85      247.0          361.0                    0          21.0  \n",
       "1            3.83      241.0         5164.0                    0          25.0  \n",
       "2            3.97      479.0          172.0                    0          43.0  \n",
       "3            3.93      512.0        29532.0                    0          32.0  \n",
       "4            4.15      170.0        33684.0                    0          23.0  "
      ],
      "text/html": [
       "<div>\n",
       "<style scoped>\n",
       "    .dataframe tbody tr th:only-of-type {\n",
       "        vertical-align: middle;\n",
       "    }\n",
       "\n",
       "    .dataframe tbody tr th {\n",
       "        vertical-align: top;\n",
       "    }\n",
       "\n",
       "    .dataframe thead th {\n",
       "        text-align: right;\n",
       "    }\n",
       "</style>\n",
       "<table border=\"1\" class=\"dataframe\">\n",
       "  <thead>\n",
       "    <tr style=\"text-align: right;\">\n",
       "      <th></th>\n",
       "      <th>isbn13</th>\n",
       "      <th>isbn10</th>\n",
       "      <th>title</th>\n",
       "      <th>subtitle</th>\n",
       "      <th>authors</th>\n",
       "      <th>categories</th>\n",
       "      <th>thumbnail</th>\n",
       "      <th>description</th>\n",
       "      <th>published_year</th>\n",
       "      <th>average_rating</th>\n",
       "      <th>num_pages</th>\n",
       "      <th>ratings_count</th>\n",
       "      <th>missing_description</th>\n",
       "      <th>age_of_books</th>\n",
       "    </tr>\n",
       "  </thead>\n",
       "  <tbody>\n",
       "    <tr>\n",
       "      <th>0</th>\n",
       "      <td>9780002005883</td>\n",
       "      <td>0002005883</td>\n",
       "      <td>Gilead</td>\n",
       "      <td>NaN</td>\n",
       "      <td>Marilynne Robinson</td>\n",
       "      <td>Fiction</td>\n",
       "      <td>http://books.google.com/books/content?id=KQZCP...</td>\n",
       "      <td>A NOVEL THAT READERS and critics have been eag...</td>\n",
       "      <td>2004.0</td>\n",
       "      <td>3.85</td>\n",
       "      <td>247.0</td>\n",
       "      <td>361.0</td>\n",
       "      <td>0</td>\n",
       "      <td>21.0</td>\n",
       "    </tr>\n",
       "    <tr>\n",
       "      <th>1</th>\n",
       "      <td>9780002261982</td>\n",
       "      <td>0002261987</td>\n",
       "      <td>Spider's Web</td>\n",
       "      <td>A Novel</td>\n",
       "      <td>Charles Osborne;Agatha Christie</td>\n",
       "      <td>Detective and mystery stories</td>\n",
       "      <td>http://books.google.com/books/content?id=gA5GP...</td>\n",
       "      <td>A new 'Christie for Christmas' -- a full-lengt...</td>\n",
       "      <td>2000.0</td>\n",
       "      <td>3.83</td>\n",
       "      <td>241.0</td>\n",
       "      <td>5164.0</td>\n",
       "      <td>0</td>\n",
       "      <td>25.0</td>\n",
       "    </tr>\n",
       "    <tr>\n",
       "      <th>2</th>\n",
       "      <td>9780006163831</td>\n",
       "      <td>0006163831</td>\n",
       "      <td>The One Tree</td>\n",
       "      <td>NaN</td>\n",
       "      <td>Stephen R. Donaldson</td>\n",
       "      <td>American fiction</td>\n",
       "      <td>http://books.google.com/books/content?id=OmQaw...</td>\n",
       "      <td>Volume Two of Stephen Donaldson's acclaimed se...</td>\n",
       "      <td>1982.0</td>\n",
       "      <td>3.97</td>\n",
       "      <td>479.0</td>\n",
       "      <td>172.0</td>\n",
       "      <td>0</td>\n",
       "      <td>43.0</td>\n",
       "    </tr>\n",
       "    <tr>\n",
       "      <th>3</th>\n",
       "      <td>9780006178736</td>\n",
       "      <td>0006178731</td>\n",
       "      <td>Rage of angels</td>\n",
       "      <td>NaN</td>\n",
       "      <td>Sidney Sheldon</td>\n",
       "      <td>Fiction</td>\n",
       "      <td>http://books.google.com/books/content?id=FKo2T...</td>\n",
       "      <td>A memorable, mesmerizing heroine Jennifer -- b...</td>\n",
       "      <td>1993.0</td>\n",
       "      <td>3.93</td>\n",
       "      <td>512.0</td>\n",
       "      <td>29532.0</td>\n",
       "      <td>0</td>\n",
       "      <td>32.0</td>\n",
       "    </tr>\n",
       "    <tr>\n",
       "      <th>4</th>\n",
       "      <td>9780006280897</td>\n",
       "      <td>0006280897</td>\n",
       "      <td>The Four Loves</td>\n",
       "      <td>NaN</td>\n",
       "      <td>Clive Staples Lewis</td>\n",
       "      <td>Christian life</td>\n",
       "      <td>http://books.google.com/books/content?id=XhQ5X...</td>\n",
       "      <td>Lewis' work on the nature of love divides love...</td>\n",
       "      <td>2002.0</td>\n",
       "      <td>4.15</td>\n",
       "      <td>170.0</td>\n",
       "      <td>33684.0</td>\n",
       "      <td>0</td>\n",
       "      <td>23.0</td>\n",
       "    </tr>\n",
       "  </tbody>\n",
       "</table>\n",
       "</div>"
      ]
     },
     "execution_count": 14,
     "metadata": {},
     "output_type": "execute_result"
    }
   ],
   "execution_count": 14
  },
  {
   "metadata": {},
   "cell_type": "markdown",
   "source": "### **4. Checking the number of categories**",
   "id": "990a2d27d743666d"
  },
  {
   "metadata": {
    "ExecuteTime": {
     "end_time": "2025-07-17T15:52:46.902253Z",
     "start_time": "2025-07-17T15:52:46.859596Z"
    }
   },
   "cell_type": "code",
   "source": "book_not_missing['categories'].value_counts().reset_index().sort_values('count', ascending=False)",
   "id": "ba3b6e79342ec85a",
   "outputs": [
    {
     "data": {
      "text/plain": [
       "                    categories  count\n",
       "0                      Fiction   2523\n",
       "1             Juvenile Fiction    534\n",
       "2    Biography & Autobiography    391\n",
       "3                      History    258\n",
       "4           Literary Criticism    164\n",
       "..                         ...    ...\n",
       "526             English essays      1\n",
       "527                 Inventions      1\n",
       "528              Building laws      1\n",
       "529         LITERARY CRITICISM      1\n",
       "464            College stories      1\n",
       "\n",
       "[531 rows x 2 columns]"
      ],
      "text/html": [
       "<div>\n",
       "<style scoped>\n",
       "    .dataframe tbody tr th:only-of-type {\n",
       "        vertical-align: middle;\n",
       "    }\n",
       "\n",
       "    .dataframe tbody tr th {\n",
       "        vertical-align: top;\n",
       "    }\n",
       "\n",
       "    .dataframe thead th {\n",
       "        text-align: right;\n",
       "    }\n",
       "</style>\n",
       "<table border=\"1\" class=\"dataframe\">\n",
       "  <thead>\n",
       "    <tr style=\"text-align: right;\">\n",
       "      <th></th>\n",
       "      <th>categories</th>\n",
       "      <th>count</th>\n",
       "    </tr>\n",
       "  </thead>\n",
       "  <tbody>\n",
       "    <tr>\n",
       "      <th>0</th>\n",
       "      <td>Fiction</td>\n",
       "      <td>2523</td>\n",
       "    </tr>\n",
       "    <tr>\n",
       "      <th>1</th>\n",
       "      <td>Juvenile Fiction</td>\n",
       "      <td>534</td>\n",
       "    </tr>\n",
       "    <tr>\n",
       "      <th>2</th>\n",
       "      <td>Biography &amp; Autobiography</td>\n",
       "      <td>391</td>\n",
       "    </tr>\n",
       "    <tr>\n",
       "      <th>3</th>\n",
       "      <td>History</td>\n",
       "      <td>258</td>\n",
       "    </tr>\n",
       "    <tr>\n",
       "      <th>4</th>\n",
       "      <td>Literary Criticism</td>\n",
       "      <td>164</td>\n",
       "    </tr>\n",
       "    <tr>\n",
       "      <th>...</th>\n",
       "      <td>...</td>\n",
       "      <td>...</td>\n",
       "    </tr>\n",
       "    <tr>\n",
       "      <th>526</th>\n",
       "      <td>English essays</td>\n",
       "      <td>1</td>\n",
       "    </tr>\n",
       "    <tr>\n",
       "      <th>527</th>\n",
       "      <td>Inventions</td>\n",
       "      <td>1</td>\n",
       "    </tr>\n",
       "    <tr>\n",
       "      <th>528</th>\n",
       "      <td>Building laws</td>\n",
       "      <td>1</td>\n",
       "    </tr>\n",
       "    <tr>\n",
       "      <th>529</th>\n",
       "      <td>LITERARY CRITICISM</td>\n",
       "      <td>1</td>\n",
       "    </tr>\n",
       "    <tr>\n",
       "      <th>464</th>\n",
       "      <td>College stories</td>\n",
       "      <td>1</td>\n",
       "    </tr>\n",
       "  </tbody>\n",
       "</table>\n",
       "<p>531 rows × 2 columns</p>\n",
       "</div>"
      ]
     },
     "execution_count": 15,
     "metadata": {},
     "output_type": "execute_result"
    }
   ],
   "execution_count": 15
  },
  {
   "metadata": {
    "ExecuteTime": {
     "end_time": "2025-07-17T15:52:51.170256Z",
     "start_time": "2025-07-17T15:52:50.334868Z"
    }
   },
   "cell_type": "code",
   "source": [
    "import plotly.express as px\n",
    "\n",
    "category_counts = book_not_missing['categories'].value_counts().reset_index()\n",
    "category_counts.columns = ['Category', 'Count']\n",
    "\n",
    "fig = px.bar(category_counts, x='Category', y='Count',\n",
    "             title='Book Categories',\n",
    "             labels={'Count': 'Number of Books', 'Category': 'Book Category'},\n",
    "             hover_data=['Count'])\n",
    "\n",
    "fig.update_layout(xaxis_tickangle=-45)\n",
    "fig.show()"
   ],
   "id": "f822af6ba99eaafc",
   "outputs": [
    {
     "data": {
      "application/vnd.plotly.v1+json": {
       "data": [
        {
         "hovertemplate": "Book Category=%{x}<br>Number of Books=%{y}<extra></extra>",
         "legendgroup": "",
         "marker": {
          "color": "#636efa",
          "pattern": {
           "shape": ""
          }
         },
         "name": "",
         "orientation": "v",
         "showlegend": false,
         "textposition": "auto",
         "x": [
          "Fiction",
          "Juvenile Fiction",
          "Biography & Autobiography",
          "History",
          "Literary Criticism",
          "Philosophy",
          "Comics & Graphic Novels",
          "Religion",
          "Drama",
          "Juvenile Nonfiction",
          "Poetry",
          "Literary Collections",
          "Science",
          "Business & Economics",
          "Social Science",
          "Performing Arts",
          "Cooking",
          "Art",
          "Body, Mind & Spirit",
          "Travel",
          "Computers",
          "Psychology",
          "Self-Help",
          "Political Science",
          "Family & Relationships",
          "Health & Fitness",
          "Humor",
          "Language Arts & Disciplines",
          "Children's stories",
          "Education",
          "Nature",
          "Medical",
          "Adventure stories",
          "Music",
          "Games",
          "English fiction",
          "Sports & Recreation",
          "Detective and mystery stories",
          "Fantasy fiction",
          "American fiction",
          "Foreign Language Study",
          "True Crime",
          "Photography",
          "Reference",
          "Law",
          "Architecture",
          "Science fiction",
          "Crafts & Hobbies",
          "Pets",
          "Authors, American",
          "Americans",
          "Young Adult Fiction",
          "Life on other planets",
          "Games & Activities",
          "England",
          "Short stories",
          "Fantasy",
          "City and town life",
          "Mathematics",
          "FICTION",
          "Families",
          "Discworld (Imaginary place)",
          "Adultery",
          "American literature",
          "Design",
          "Gardening",
          "Technology & Engineering",
          "London (England)",
          "Bail bond agents",
          "Study Aids",
          "Baggins, Frodo (Fictitious character)",
          "British",
          "Fantasy fiction, American",
          "Domestic fiction",
          "Detective and mystery stories, English",
          "Authors, English",
          "Classical fiction",
          "Great Britain",
          "Graphic novels",
          "Blind",
          "Boston (Mass.)",
          "Cosmology",
          "House & Home",
          "Conduct of life",
          "Horror tales",
          "Fantasy fiction, English",
          "Boys",
          "Beowulf",
          "Children's stories, English",
          "Christian life",
          "China",
          "Bibles",
          "Cities and towns",
          "Botswana",
          "Humorous stories, English",
          "Brothers",
          "Dreams",
          "Friendship",
          "Authors",
          "Bible",
          "Comic books, strips, etc",
          "Continental Op (Fictitious character)",
          "Antiques & Collectibles",
          "Fairy tales",
          "BIOGRAPHY & AUTOBIOGRAPHY",
          "Cats",
          "African Americans",
          "Capitalism",
          "Arthurian romances",
          "English drama",
          "Magic",
          "Transportation",
          "Christianity",
          "Cowboys",
          "JUVENILE FICTION",
          "Crusades",
          "Political science",
          "College teachers",
          "American wit and humor, Pictorial",
          "Antiheroes",
          "Arithmetic",
          "Alienation (Social psychology)",
          "Family life",
          "Canada",
          "English language",
          "Chocolate",
          "Australian fiction",
          "Australia",
          "Europe",
          "Christmas",
          "Death",
          "Japan",
          "American poetry",
          "Short stories, American",
          "Finance, Personal",
          "Contests",
          "Ballet",
          "United States",
          "Arctic regions",
          "Alcoholics",
          "Children's poetry, American",
          "Intelligence service",
          "Los Angeles (Calif.)",
          "Dent, Arthur (Fictitious character)",
          "Man-woman relationships",
          "Adventure fiction",
          "English",
          "Latin America",
          "Bond, James (Fictitious character)",
          "History, Modern",
          "Cookery",
          "Experimental fiction",
          "Cancer",
          "Children of the rich",
          "Horror tales, American",
          "Belgians",
          "Historical fiction",
          "Folklore",
          "Christmas stories",
          "Science fiction, American",
          "Male friendship",
          "Clergy",
          "Aubrey, Jack (Fictitious character)",
          "Black Death",
          "Human cloning",
          "Married people",
          "Actors and actresses",
          "Church work with the poor",
          "Estados Unidos - Relaciones exteriores - 1945-1989",
          "Authors, Cuban",
          "Death (Fictitious character : Gaiman)",
          "Astronomers",
          "Epic literature",
          "Imperialism",
          "Catholic women",
          "Aged women",
          "Ballets",
          "Humorous stories",
          "Butlers",
          "Audiobooks",
          "Existentialism",
          "African Americans in radio broadcasting",
          "Animals, Treatment of",
          "Grandmothers",
          "Computer programmers",
          "Actors",
          "Holt, Max (Fictitious character)",
          "Dragons",
          "Christian saints",
          "Insane, Criminal and dangerous",
          "Divorce",
          "Surealism",
          "Cellists",
          "Cerebrovascular disease",
          "Communication in families",
          "Theology, Doctrinal",
          "Aeneas (Legendary character)",
          "Cookbooks",
          "Physics",
          "Dystopias",
          "Good and evil",
          "Heroes",
          "Large print books",
          "Illinois",
          "Yoknapatawpha County (Imaginary place)",
          "Humorous stories, American",
          "Book burning",
          "Nanjing (Jiangsu Sheng, China)",
          "Aircraft accidents",
          "Sea stories",
          "Detective and mystery comic books, strips, etc",
          "Jews",
          "Conspiracies",
          "Egypt",
          "Diary fiction",
          "Catholics",
          "Political leadership",
          "Bosnia and Hercegovina",
          "Mormon fundamentalism",
          "Men",
          "Czechoslovakia",
          "French drama",
          "Candy",
          "Courtship",
          "Dracula, Count (Fictitious character)",
          "Dead",
          "Cabrillo, Juan (Fictitious character)",
          "Handicapped youth",
          "Sea monsters",
          "Adirondack Mountains (N.Y.)",
          "Children of Holocaust survivors",
          "American wit and humor",
          "Experimental fiction, American",
          "Argentine literature",
          "Novelists, American",
          "War",
          "Adult children",
          "Agriculture",
          "First loves",
          "Curiosities and wonders",
          "Epidemics",
          "Repression (Psychology)",
          "Mentally ill",
          "Bereavement",
          "Human-alien encounters",
          "Motion picture plays",
          "Amnesia",
          "Auschwitz (Poland : Concentration camp)",
          "Political fiction",
          "Antislavery movements",
          "Books",
          "Little, Stuart (Fictitious character)",
          "Baggins, Bilbo (Fictitious character)",
          "Antisemitism",
          "Popular culture",
          "Misogyny",
          "Apartheid",
          "Vice-Presidents",
          "Buddhism",
          "Zero (The number)",
          "Psychoanalysis and religion",
          "Poets, Chilean",
          "Art museum curators",
          "Literary Criticism & Collections",
          "Erinyes (Greek mythology)",
          "Greek drama (Tragedy)",
          "Babytime resource",
          "New England",
          "Authors, Canadian",
          "Abandoned mines",
          "Air pilots",
          "Community life",
          "Rock musicians",
          "Banks and banking, British",
          "Brothers and sisters",
          "Pigeons",
          "Electrons",
          "Existential psychotherapy",
          "Albigenses",
          "College attendance",
          "Murder",
          "India",
          "Bombings",
          "High schools",
          "English poetry",
          "Amour - Ouvrages avant 1800",
          "Sex",
          "Tobruk, Battles of, 1941-1942",
          "Confucianism",
          "Igbo (African people)",
          "Ghost stories, American",
          "Human behavior",
          "Social action",
          "Horror",
          "Galicia (Spain : Region)",
          "Businesswomen",
          "Authors, Italian",
          "Canadian wit and humor",
          "Obesity",
          "Apartments",
          "Actresses",
          "Germany",
          "Adventure stories, English",
          "Animal sanctuaries",
          "American Wit And Humour",
          "Cocaine industry",
          "Gangs",
          "Cults",
          "Divorced women",
          "Bracelets",
          "Egyptologists",
          "Demonology",
          "Crime investigation",
          "Authors, German",
          "Exorcism",
          "Lecter, Hannibal (Fictitious character)",
          "American drama",
          "Children's plays",
          "Dating (Social customs)",
          "France",
          "Feature films [DVD]",
          "Accidents",
          "World War, 1914-1918",
          "Adolescence",
          "Animals, Mythical",
          "Diaries",
          "Babysitters Club (Imaginary organization)",
          "Horror stories",
          "Trials (Witchcraft)",
          "Caterpillars",
          "Ryan, Jack (Fictitious character)",
          "Autonomy (Psychology).",
          "Paris (France)",
          "Ghost stories",
          "Stone age",
          "Alanna (Fictitious character : Pierce)",
          "Queens",
          "Television",
          "Bullying",
          "Mental illness",
          "Allegories",
          "Dominican Republic",
          "Blake, Anita (Fictitious character)",
          "Science fiction, English.",
          "Detective and mystery stories, English.",
          "Family",
          "Sexual behavior surveys",
          "Manuscripts",
          "Science fiction, English",
          "Drenai (Imaginary place)",
          "Persian Gulf War, 1991",
          "Criminals",
          "Arabic fiction",
          "Brewing",
          "Fantasy.",
          "Civil law",
          "Hitchhiking",
          "Latin poetry",
          "Ballet dancers",
          "Cider house rules. (Motion picture)",
          "New York (State)",
          "Eretz Israel",
          "Apprentices",
          "Atonement",
          "Badgers",
          "Cooking, French",
          "Occult fiction",
          "Divorced people",
          "Amazon River Region",
          "Airplane crash survival",
          "Czech fiction",
          "Love",
          "Birds",
          "Language and languages",
          "Blacks",
          "City girl",
          "Businessmen",
          "Humorous fiction",
          "Photographers",
          "Polish poetry",
          "Bus travel",
          "Teenagers",
          "Gambling",
          "Poets, American",
          "Czech Republic",
          "Prisoners of war",
          "Englisch - Geschichte - Lyrik - Aufsatzsammlung",
          "Horror stories.",
          "Mathematicians",
          "Black humor (Literature)",
          "Apartment houses",
          "Motion picture actors and actresses",
          "Boarding schools",
          "Short stories, English",
          "Alternative histories (Fiction)",
          "Espionage",
          "Electronic books",
          "Love poetry",
          "Alcestis (Greek mythology)",
          "Friendship in adolescence",
          "Behavior",
          "Adult education",
          "Acting",
          "Dublin (Ireland)",
          "Slave insurrections",
          "Amis, Kingsley",
          "Dangerously mentally ill",
          "Physicists",
          "Sex customs",
          "Provence (France)",
          "Essentialism (Philosophy)",
          "Costume",
          "African American plantation owners",
          "Anger",
          "Comedy",
          "Alzheimer's disease",
          "Essays",
          "Mothers and sons",
          "Azerbaijan",
          "Democracy",
          "Psycho (Motion picture : 1960)",
          "Business women",
          "Angels",
          "Aboriginal Australians",
          "Interplanetary voyages",
          "Boarding school-fiction",
          "African American men",
          "Chrestomanci (Fictitious character)",
          "Labrador retriever",
          "Reducing diets",
          "Partition of decedents' estates",
          "Archaeological expeditions",
          "Explorers",
          "Music trade",
          "Computer science",
          "Female friendship",
          "Cornwall (England : County)",
          "Film producers and directors",
          "Kyoto (Japan)",
          "Canterbury (England)",
          "European fiction",
          "Artists",
          "Bumppo, Natty (Fictitious character)",
          "Adventure stories, American",
          "Aging",
          "Outlaws",
          "Bedtime",
          "Cosmetics industry",
          "Confianza en sí mismo",
          "Dallas, Eve (Fictitious character)",
          "Chick lit",
          "Novelists, English",
          "Escapes",
          "Castle Rock (Me. : Imaginary place)",
          "Benedictine monasteries",
          "Amyotrophic lateral sclerosis",
          "Abused wives",
          "Birthparents",
          "Conner, Rainie (Fictitious character)",
          "Animal sounds",
          "87th Precinct (Imaginary place)",
          "Women terrorists",
          "Organized Crime",
          "Defectors",
          "College stories",
          "Crime investigations",
          "Austria",
          "Girls",
          "Elves",
          "Country life",
          "Hyland, Morn (Fictitious character)",
          "Ireland",
          "Africa, East",
          "Indic fiction (English)",
          "Gardens",
          "Bosnia and Herzegovina",
          "Disasters",
          "Lisbon (Portugal)",
          "Aeronautics",
          "Childbirth",
          "Consumer behavior",
          "Seduction",
          "Authors, Arab",
          "Nineteen ninety-eight, A.D.",
          "Children of divorced parents",
          "Animals",
          "Detective and mystery stories, American",
          "Amnesty",
          "Everest, Mount (China and Nepal)",
          "Adjustment (Psychology)",
          "Boats and boating",
          "Zoology",
          "People with social disabilities",
          "Minimal brain dysfunction in children",
          "Spiritual life",
          "Meditation",
          "Gay men",
          "Christian fiction",
          "Napoleonic Wars, 1800-1815",
          "Fairy tales, English",
          "Beresford, Tommy (Fictitious character)",
          "Imaginary wars and battles",
          "Dysfunctional families",
          "Poirot, Hercule (Fictitious character)",
          "Marple, Jane (Fictitious character)",
          "American essays",
          "Literature",
          "Hallucinogenic drugs",
          "Parenthood",
          "Vietnam War, 1961-1975",
          "Battle, Superintendent (Fictitious character)",
          "Cambridge (Mass.)",
          "Business enterprises",
          "Emotional problems",
          "Characters and characteristics in motion pictures",
          "Human-animal relationships",
          "Black market",
          "Shipwrecks",
          "Conan (Fictitious character)",
          "Otherland (Imaginary place)",
          "Courage",
          "Identity (Psychology)",
          "Mars (Planet)",
          "Assassins",
          "Autism",
          "Botanique",
          "English essays",
          "Inventions",
          "Building laws",
          "LITERARY CRITICISM",
          "Amish"
         ],
         "xaxis": "x",
         "y": {
          "dtype": "i2",
          "bdata": "2wkWAocBAgGkAJoAmACIAH4AcgBLAEYARQBCADoAMQAuAC0ALAArACoAKQAkACQAIgAgACAAHwAbABsAGAAYABYAEwATABIAEQAQAA8ADgAMAAwACwALAAsACgAJAAgACAAIAAgACAAHAAcABwAHAAcABwAHAAYABgAGAAYABgAGAAYABQAFAAUABQAFAAUABAAEAAQABAAEAAQABAAEAAQABAAEAAQAAwADAAMAAwADAAMAAwADAAMAAwADAAMAAwADAAMAAwADAAMAAwADAAMAAwADAAIAAgACAAIAAgACAAIAAgACAAIAAgACAAIAAgACAAIAAgACAAIAAgACAAIAAgACAAIAAgACAAIAAgACAAIAAgACAAIAAgACAAIAAgACAAIAAgACAAIAAgACAAIAAgACAAIAAgACAAIAAgABAAEAAQABAAEAAQABAAEAAQABAAEAAQABAAEAAQABAAEAAQABAAEAAQABAAEAAQABAAEAAQABAAEAAQABAAEAAQABAAEAAQABAAEAAQABAAEAAQABAAEAAQABAAEAAQABAAEAAQABAAEAAQABAAEAAQABAAEAAQABAAEAAQABAAEAAQABAAEAAQABAAEAAQABAAEAAQABAAEAAQABAAEAAQABAAEAAQABAAEAAQABAAEAAQABAAEAAQABAAEAAQABAAEAAQABAAEAAQABAAEAAQABAAEAAQABAAEAAQABAAEAAQABAAEAAQABAAEAAQABAAEAAQABAAEAAQABAAEAAQABAAEAAQABAAEAAQABAAEAAQABAAEAAQABAAEAAQABAAEAAQABAAEAAQABAAEAAQABAAEAAQABAAEAAQABAAEAAQABAAEAAQABAAEAAQABAAEAAQABAAEAAQABAAEAAQABAAEAAQABAAEAAQABAAEAAQABAAEAAQABAAEAAQABAAEAAQABAAEAAQABAAEAAQABAAEAAQABAAEAAQABAAEAAQABAAEAAQABAAEAAQABAAEAAQABAAEAAQABAAEAAQABAAEAAQABAAEAAQABAAEAAQABAAEAAQABAAEAAQABAAEAAQABAAEAAQABAAEAAQABAAEAAQABAAEAAQABAAEAAQABAAEAAQABAAEAAQABAAEAAQABAAEAAQABAAEAAQABAAEAAQABAAEAAQABAAEAAQABAAEAAQABAAEAAQABAAEAAQABAAEAAQABAAEAAQABAAEAAQABAAEAAQABAAEAAQABAAEAAQABAAEAAQABAAEAAQABAAEAAQABAAEAAQABAAEAAQABAAEAAQABAAEAAQABAAEAAQABAAEAAQABAAEAAQABAAEAAQABAAEAAQABAAEAAQABAAEAAQABAAEAAQABAAEAAQABAAEAAQABAAEAAQABAAEAAQABAAEAAQABAAEA"
         },
         "yaxis": "y",
         "type": "bar"
        }
       ],
       "layout": {
        "template": {
         "data": {
          "histogram2dcontour": [
           {
            "type": "histogram2dcontour",
            "colorbar": {
             "outlinewidth": 0,
             "ticks": ""
            },
            "colorscale": [
             [
              0.0,
              "#0d0887"
             ],
             [
              0.1111111111111111,
              "#46039f"
             ],
             [
              0.2222222222222222,
              "#7201a8"
             ],
             [
              0.3333333333333333,
              "#9c179e"
             ],
             [
              0.4444444444444444,
              "#bd3786"
             ],
             [
              0.5555555555555556,
              "#d8576b"
             ],
             [
              0.6666666666666666,
              "#ed7953"
             ],
             [
              0.7777777777777778,
              "#fb9f3a"
             ],
             [
              0.8888888888888888,
              "#fdca26"
             ],
             [
              1.0,
              "#f0f921"
             ]
            ]
           }
          ],
          "choropleth": [
           {
            "type": "choropleth",
            "colorbar": {
             "outlinewidth": 0,
             "ticks": ""
            }
           }
          ],
          "histogram2d": [
           {
            "type": "histogram2d",
            "colorbar": {
             "outlinewidth": 0,
             "ticks": ""
            },
            "colorscale": [
             [
              0.0,
              "#0d0887"
             ],
             [
              0.1111111111111111,
              "#46039f"
             ],
             [
              0.2222222222222222,
              "#7201a8"
             ],
             [
              0.3333333333333333,
              "#9c179e"
             ],
             [
              0.4444444444444444,
              "#bd3786"
             ],
             [
              0.5555555555555556,
              "#d8576b"
             ],
             [
              0.6666666666666666,
              "#ed7953"
             ],
             [
              0.7777777777777778,
              "#fb9f3a"
             ],
             [
              0.8888888888888888,
              "#fdca26"
             ],
             [
              1.0,
              "#f0f921"
             ]
            ]
           }
          ],
          "heatmap": [
           {
            "type": "heatmap",
            "colorbar": {
             "outlinewidth": 0,
             "ticks": ""
            },
            "colorscale": [
             [
              0.0,
              "#0d0887"
             ],
             [
              0.1111111111111111,
              "#46039f"
             ],
             [
              0.2222222222222222,
              "#7201a8"
             ],
             [
              0.3333333333333333,
              "#9c179e"
             ],
             [
              0.4444444444444444,
              "#bd3786"
             ],
             [
              0.5555555555555556,
              "#d8576b"
             ],
             [
              0.6666666666666666,
              "#ed7953"
             ],
             [
              0.7777777777777778,
              "#fb9f3a"
             ],
             [
              0.8888888888888888,
              "#fdca26"
             ],
             [
              1.0,
              "#f0f921"
             ]
            ]
           }
          ],
          "contourcarpet": [
           {
            "type": "contourcarpet",
            "colorbar": {
             "outlinewidth": 0,
             "ticks": ""
            }
           }
          ],
          "contour": [
           {
            "type": "contour",
            "colorbar": {
             "outlinewidth": 0,
             "ticks": ""
            },
            "colorscale": [
             [
              0.0,
              "#0d0887"
             ],
             [
              0.1111111111111111,
              "#46039f"
             ],
             [
              0.2222222222222222,
              "#7201a8"
             ],
             [
              0.3333333333333333,
              "#9c179e"
             ],
             [
              0.4444444444444444,
              "#bd3786"
             ],
             [
              0.5555555555555556,
              "#d8576b"
             ],
             [
              0.6666666666666666,
              "#ed7953"
             ],
             [
              0.7777777777777778,
              "#fb9f3a"
             ],
             [
              0.8888888888888888,
              "#fdca26"
             ],
             [
              1.0,
              "#f0f921"
             ]
            ]
           }
          ],
          "surface": [
           {
            "type": "surface",
            "colorbar": {
             "outlinewidth": 0,
             "ticks": ""
            },
            "colorscale": [
             [
              0.0,
              "#0d0887"
             ],
             [
              0.1111111111111111,
              "#46039f"
             ],
             [
              0.2222222222222222,
              "#7201a8"
             ],
             [
              0.3333333333333333,
              "#9c179e"
             ],
             [
              0.4444444444444444,
              "#bd3786"
             ],
             [
              0.5555555555555556,
              "#d8576b"
             ],
             [
              0.6666666666666666,
              "#ed7953"
             ],
             [
              0.7777777777777778,
              "#fb9f3a"
             ],
             [
              0.8888888888888888,
              "#fdca26"
             ],
             [
              1.0,
              "#f0f921"
             ]
            ]
           }
          ],
          "mesh3d": [
           {
            "type": "mesh3d",
            "colorbar": {
             "outlinewidth": 0,
             "ticks": ""
            }
           }
          ],
          "scatter": [
           {
            "marker": {
             "line": {
              "color": "#283442"
             }
            },
            "type": "scatter"
           }
          ],
          "parcoords": [
           {
            "type": "parcoords",
            "line": {
             "colorbar": {
              "outlinewidth": 0,
              "ticks": ""
             }
            }
           }
          ],
          "scatterpolargl": [
           {
            "type": "scatterpolargl",
            "marker": {
             "colorbar": {
              "outlinewidth": 0,
              "ticks": ""
             }
            }
           }
          ],
          "bar": [
           {
            "error_x": {
             "color": "#f2f5fa"
            },
            "error_y": {
             "color": "#f2f5fa"
            },
            "marker": {
             "line": {
              "color": "rgb(17,17,17)",
              "width": 0.5
             },
             "pattern": {
              "fillmode": "overlay",
              "size": 10,
              "solidity": 0.2
             }
            },
            "type": "bar"
           }
          ],
          "scattergeo": [
           {
            "type": "scattergeo",
            "marker": {
             "colorbar": {
              "outlinewidth": 0,
              "ticks": ""
             }
            }
           }
          ],
          "scatterpolar": [
           {
            "type": "scatterpolar",
            "marker": {
             "colorbar": {
              "outlinewidth": 0,
              "ticks": ""
             }
            }
           }
          ],
          "histogram": [
           {
            "marker": {
             "pattern": {
              "fillmode": "overlay",
              "size": 10,
              "solidity": 0.2
             }
            },
            "type": "histogram"
           }
          ],
          "scattergl": [
           {
            "marker": {
             "line": {
              "color": "#283442"
             }
            },
            "type": "scattergl"
           }
          ],
          "scatter3d": [
           {
            "type": "scatter3d",
            "line": {
             "colorbar": {
              "outlinewidth": 0,
              "ticks": ""
             }
            },
            "marker": {
             "colorbar": {
              "outlinewidth": 0,
              "ticks": ""
             }
            }
           }
          ],
          "scattermap": [
           {
            "type": "scattermap",
            "marker": {
             "colorbar": {
              "outlinewidth": 0,
              "ticks": ""
             }
            }
           }
          ],
          "scattermapbox": [
           {
            "type": "scattermapbox",
            "marker": {
             "colorbar": {
              "outlinewidth": 0,
              "ticks": ""
             }
            }
           }
          ],
          "scatterternary": [
           {
            "type": "scatterternary",
            "marker": {
             "colorbar": {
              "outlinewidth": 0,
              "ticks": ""
             }
            }
           }
          ],
          "scattercarpet": [
           {
            "type": "scattercarpet",
            "marker": {
             "colorbar": {
              "outlinewidth": 0,
              "ticks": ""
             }
            }
           }
          ],
          "carpet": [
           {
            "aaxis": {
             "endlinecolor": "#A2B1C6",
             "gridcolor": "#506784",
             "linecolor": "#506784",
             "minorgridcolor": "#506784",
             "startlinecolor": "#A2B1C6"
            },
            "baxis": {
             "endlinecolor": "#A2B1C6",
             "gridcolor": "#506784",
             "linecolor": "#506784",
             "minorgridcolor": "#506784",
             "startlinecolor": "#A2B1C6"
            },
            "type": "carpet"
           }
          ],
          "table": [
           {
            "cells": {
             "fill": {
              "color": "#506784"
             },
             "line": {
              "color": "rgb(17,17,17)"
             }
            },
            "header": {
             "fill": {
              "color": "#2a3f5f"
             },
             "line": {
              "color": "rgb(17,17,17)"
             }
            },
            "type": "table"
           }
          ],
          "barpolar": [
           {
            "marker": {
             "line": {
              "color": "rgb(17,17,17)",
              "width": 0.5
             },
             "pattern": {
              "fillmode": "overlay",
              "size": 10,
              "solidity": 0.2
             }
            },
            "type": "barpolar"
           }
          ],
          "pie": [
           {
            "automargin": true,
            "type": "pie"
           }
          ]
         },
         "layout": {
          "autotypenumbers": "strict",
          "colorway": [
           "#636efa",
           "#EF553B",
           "#00cc96",
           "#ab63fa",
           "#FFA15A",
           "#19d3f3",
           "#FF6692",
           "#B6E880",
           "#FF97FF",
           "#FECB52"
          ],
          "font": {
           "color": "#f2f5fa"
          },
          "hovermode": "closest",
          "hoverlabel": {
           "align": "left"
          },
          "paper_bgcolor": "rgb(17,17,17)",
          "plot_bgcolor": "rgb(17,17,17)",
          "polar": {
           "bgcolor": "rgb(17,17,17)",
           "angularaxis": {
            "gridcolor": "#506784",
            "linecolor": "#506784",
            "ticks": ""
           },
           "radialaxis": {
            "gridcolor": "#506784",
            "linecolor": "#506784",
            "ticks": ""
           }
          },
          "ternary": {
           "bgcolor": "rgb(17,17,17)",
           "aaxis": {
            "gridcolor": "#506784",
            "linecolor": "#506784",
            "ticks": ""
           },
           "baxis": {
            "gridcolor": "#506784",
            "linecolor": "#506784",
            "ticks": ""
           },
           "caxis": {
            "gridcolor": "#506784",
            "linecolor": "#506784",
            "ticks": ""
           }
          },
          "coloraxis": {
           "colorbar": {
            "outlinewidth": 0,
            "ticks": ""
           }
          },
          "colorscale": {
           "sequential": [
            [
             0.0,
             "#0d0887"
            ],
            [
             0.1111111111111111,
             "#46039f"
            ],
            [
             0.2222222222222222,
             "#7201a8"
            ],
            [
             0.3333333333333333,
             "#9c179e"
            ],
            [
             0.4444444444444444,
             "#bd3786"
            ],
            [
             0.5555555555555556,
             "#d8576b"
            ],
            [
             0.6666666666666666,
             "#ed7953"
            ],
            [
             0.7777777777777778,
             "#fb9f3a"
            ],
            [
             0.8888888888888888,
             "#fdca26"
            ],
            [
             1.0,
             "#f0f921"
            ]
           ],
           "sequentialminus": [
            [
             0.0,
             "#0d0887"
            ],
            [
             0.1111111111111111,
             "#46039f"
            ],
            [
             0.2222222222222222,
             "#7201a8"
            ],
            [
             0.3333333333333333,
             "#9c179e"
            ],
            [
             0.4444444444444444,
             "#bd3786"
            ],
            [
             0.5555555555555556,
             "#d8576b"
            ],
            [
             0.6666666666666666,
             "#ed7953"
            ],
            [
             0.7777777777777778,
             "#fb9f3a"
            ],
            [
             0.8888888888888888,
             "#fdca26"
            ],
            [
             1.0,
             "#f0f921"
            ]
           ],
           "diverging": [
            [
             0,
             "#8e0152"
            ],
            [
             0.1,
             "#c51b7d"
            ],
            [
             0.2,
             "#de77ae"
            ],
            [
             0.3,
             "#f1b6da"
            ],
            [
             0.4,
             "#fde0ef"
            ],
            [
             0.5,
             "#f7f7f7"
            ],
            [
             0.6,
             "#e6f5d0"
            ],
            [
             0.7,
             "#b8e186"
            ],
            [
             0.8,
             "#7fbc41"
            ],
            [
             0.9,
             "#4d9221"
            ],
            [
             1,
             "#276419"
            ]
           ]
          },
          "xaxis": {
           "gridcolor": "#283442",
           "linecolor": "#506784",
           "ticks": "",
           "title": {
            "standoff": 15
           },
           "zerolinecolor": "#283442",
           "automargin": true,
           "zerolinewidth": 2
          },
          "yaxis": {
           "gridcolor": "#283442",
           "linecolor": "#506784",
           "ticks": "",
           "title": {
            "standoff": 15
           },
           "zerolinecolor": "#283442",
           "automargin": true,
           "zerolinewidth": 2
          },
          "scene": {
           "xaxis": {
            "backgroundcolor": "rgb(17,17,17)",
            "gridcolor": "#506784",
            "linecolor": "#506784",
            "showbackground": true,
            "ticks": "",
            "zerolinecolor": "#C8D4E3",
            "gridwidth": 2
           },
           "yaxis": {
            "backgroundcolor": "rgb(17,17,17)",
            "gridcolor": "#506784",
            "linecolor": "#506784",
            "showbackground": true,
            "ticks": "",
            "zerolinecolor": "#C8D4E3",
            "gridwidth": 2
           },
           "zaxis": {
            "backgroundcolor": "rgb(17,17,17)",
            "gridcolor": "#506784",
            "linecolor": "#506784",
            "showbackground": true,
            "ticks": "",
            "zerolinecolor": "#C8D4E3",
            "gridwidth": 2
           }
          },
          "shapedefaults": {
           "line": {
            "color": "#f2f5fa"
           }
          },
          "annotationdefaults": {
           "arrowcolor": "#f2f5fa",
           "arrowhead": 0,
           "arrowwidth": 1
          },
          "geo": {
           "bgcolor": "rgb(17,17,17)",
           "landcolor": "rgb(17,17,17)",
           "subunitcolor": "#506784",
           "showland": true,
           "showlakes": true,
           "lakecolor": "rgb(17,17,17)"
          },
          "title": {
           "x": 0.05
          },
          "updatemenudefaults": {
           "bgcolor": "#506784",
           "borderwidth": 0
          },
          "sliderdefaults": {
           "bgcolor": "#C8D4E3",
           "borderwidth": 1,
           "bordercolor": "rgb(17,17,17)",
           "tickwidth": 0
          },
          "mapbox": {
           "style": "dark"
          }
         }
        },
        "xaxis": {
         "anchor": "y",
         "domain": [
          0.0,
          1.0
         ],
         "title": {
          "text": "Book Category"
         },
         "tickangle": -45
        },
        "yaxis": {
         "anchor": "x",
         "domain": [
          0.0,
          1.0
         ],
         "title": {
          "text": "Number of Books"
         }
        },
        "legend": {
         "tracegroupgap": 0
        },
        "title": {
         "text": "Book Categories"
        },
        "barmode": "relative"
       },
       "config": {
        "plotlyServerURL": "https://plot.ly"
       }
      }
     },
     "metadata": {},
     "output_type": "display_data"
    }
   ],
   "execution_count": 16
  },
  {
   "metadata": {},
   "cell_type": "markdown",
   "source": "### **5. Remove short description**",
   "id": "31c005044513be2b"
  },
  {
   "metadata": {},
   "cell_type": "markdown",
   "source": "In this step, we will check how long words in a description, if they are so short (just having 1-10 words), they can be not useful values so we can get rid of these.",
   "id": "711375950631b63c"
  },
  {
   "metadata": {
    "ExecuteTime": {
     "end_time": "2025-07-17T15:53:00.511847Z",
     "start_time": "2025-07-17T15:53:00.436383Z"
    }
   },
   "cell_type": "code",
   "source": [
    "book_not_missing['words_in_description'] = book_not_missing['description'].apply(lambda x: len(x.split()))\n",
    "book_not_missing.head()"
   ],
   "id": "2222a769b0a8e3a2",
   "outputs": [
    {
     "name": "stderr",
     "output_type": "stream",
     "text": [
      "C:\\Users\\ngmin\\AppData\\Local\\Temp\\ipykernel_8176\\4287378749.py:1: SettingWithCopyWarning:\n",
      "\n",
      "\n",
      "A value is trying to be set on a copy of a slice from a DataFrame.\n",
      "Try using .loc[row_indexer,col_indexer] = value instead\n",
      "\n",
      "See the caveats in the documentation: https://pandas.pydata.org/pandas-docs/stable/user_guide/indexing.html#returning-a-view-versus-a-copy\n",
      "\n"
     ]
    },
    {
     "data": {
      "text/plain": [
       "          isbn13      isbn10           title subtitle  \\\n",
       "0  9780002005883  0002005883          Gilead      NaN   \n",
       "1  9780002261982  0002261987    Spider's Web  A Novel   \n",
       "2  9780006163831  0006163831    The One Tree      NaN   \n",
       "3  9780006178736  0006178731  Rage of angels      NaN   \n",
       "4  9780006280897  0006280897  The Four Loves      NaN   \n",
       "\n",
       "                           authors                     categories  \\\n",
       "0               Marilynne Robinson                        Fiction   \n",
       "1  Charles Osborne;Agatha Christie  Detective and mystery stories   \n",
       "2             Stephen R. Donaldson               American fiction   \n",
       "3                   Sidney Sheldon                        Fiction   \n",
       "4              Clive Staples Lewis                 Christian life   \n",
       "\n",
       "                                           thumbnail  \\\n",
       "0  http://books.google.com/books/content?id=KQZCP...   \n",
       "1  http://books.google.com/books/content?id=gA5GP...   \n",
       "2  http://books.google.com/books/content?id=OmQaw...   \n",
       "3  http://books.google.com/books/content?id=FKo2T...   \n",
       "4  http://books.google.com/books/content?id=XhQ5X...   \n",
       "\n",
       "                                         description  published_year  \\\n",
       "0  A NOVEL THAT READERS and critics have been eag...          2004.0   \n",
       "1  A new 'Christie for Christmas' -- a full-lengt...          2000.0   \n",
       "2  Volume Two of Stephen Donaldson's acclaimed se...          1982.0   \n",
       "3  A memorable, mesmerizing heroine Jennifer -- b...          1993.0   \n",
       "4  Lewis' work on the nature of love divides love...          2002.0   \n",
       "\n",
       "   average_rating  num_pages  ratings_count  missing_description  \\\n",
       "0            3.85      247.0          361.0                    0   \n",
       "1            3.83      241.0         5164.0                    0   \n",
       "2            3.97      479.0          172.0                    0   \n",
       "3            3.93      512.0        29532.0                    0   \n",
       "4            4.15      170.0        33684.0                    0   \n",
       "\n",
       "   age_of_books  words_in_description  \n",
       "0          21.0                   199  \n",
       "1          25.0                   205  \n",
       "2          43.0                    14  \n",
       "3          32.0                    57  \n",
       "4          23.0                    45  "
      ],
      "text/html": [
       "<div>\n",
       "<style scoped>\n",
       "    .dataframe tbody tr th:only-of-type {\n",
       "        vertical-align: middle;\n",
       "    }\n",
       "\n",
       "    .dataframe tbody tr th {\n",
       "        vertical-align: top;\n",
       "    }\n",
       "\n",
       "    .dataframe thead th {\n",
       "        text-align: right;\n",
       "    }\n",
       "</style>\n",
       "<table border=\"1\" class=\"dataframe\">\n",
       "  <thead>\n",
       "    <tr style=\"text-align: right;\">\n",
       "      <th></th>\n",
       "      <th>isbn13</th>\n",
       "      <th>isbn10</th>\n",
       "      <th>title</th>\n",
       "      <th>subtitle</th>\n",
       "      <th>authors</th>\n",
       "      <th>categories</th>\n",
       "      <th>thumbnail</th>\n",
       "      <th>description</th>\n",
       "      <th>published_year</th>\n",
       "      <th>average_rating</th>\n",
       "      <th>num_pages</th>\n",
       "      <th>ratings_count</th>\n",
       "      <th>missing_description</th>\n",
       "      <th>age_of_books</th>\n",
       "      <th>words_in_description</th>\n",
       "    </tr>\n",
       "  </thead>\n",
       "  <tbody>\n",
       "    <tr>\n",
       "      <th>0</th>\n",
       "      <td>9780002005883</td>\n",
       "      <td>0002005883</td>\n",
       "      <td>Gilead</td>\n",
       "      <td>NaN</td>\n",
       "      <td>Marilynne Robinson</td>\n",
       "      <td>Fiction</td>\n",
       "      <td>http://books.google.com/books/content?id=KQZCP...</td>\n",
       "      <td>A NOVEL THAT READERS and critics have been eag...</td>\n",
       "      <td>2004.0</td>\n",
       "      <td>3.85</td>\n",
       "      <td>247.0</td>\n",
       "      <td>361.0</td>\n",
       "      <td>0</td>\n",
       "      <td>21.0</td>\n",
       "      <td>199</td>\n",
       "    </tr>\n",
       "    <tr>\n",
       "      <th>1</th>\n",
       "      <td>9780002261982</td>\n",
       "      <td>0002261987</td>\n",
       "      <td>Spider's Web</td>\n",
       "      <td>A Novel</td>\n",
       "      <td>Charles Osborne;Agatha Christie</td>\n",
       "      <td>Detective and mystery stories</td>\n",
       "      <td>http://books.google.com/books/content?id=gA5GP...</td>\n",
       "      <td>A new 'Christie for Christmas' -- a full-lengt...</td>\n",
       "      <td>2000.0</td>\n",
       "      <td>3.83</td>\n",
       "      <td>241.0</td>\n",
       "      <td>5164.0</td>\n",
       "      <td>0</td>\n",
       "      <td>25.0</td>\n",
       "      <td>205</td>\n",
       "    </tr>\n",
       "    <tr>\n",
       "      <th>2</th>\n",
       "      <td>9780006163831</td>\n",
       "      <td>0006163831</td>\n",
       "      <td>The One Tree</td>\n",
       "      <td>NaN</td>\n",
       "      <td>Stephen R. Donaldson</td>\n",
       "      <td>American fiction</td>\n",
       "      <td>http://books.google.com/books/content?id=OmQaw...</td>\n",
       "      <td>Volume Two of Stephen Donaldson's acclaimed se...</td>\n",
       "      <td>1982.0</td>\n",
       "      <td>3.97</td>\n",
       "      <td>479.0</td>\n",
       "      <td>172.0</td>\n",
       "      <td>0</td>\n",
       "      <td>43.0</td>\n",
       "      <td>14</td>\n",
       "    </tr>\n",
       "    <tr>\n",
       "      <th>3</th>\n",
       "      <td>9780006178736</td>\n",
       "      <td>0006178731</td>\n",
       "      <td>Rage of angels</td>\n",
       "      <td>NaN</td>\n",
       "      <td>Sidney Sheldon</td>\n",
       "      <td>Fiction</td>\n",
       "      <td>http://books.google.com/books/content?id=FKo2T...</td>\n",
       "      <td>A memorable, mesmerizing heroine Jennifer -- b...</td>\n",
       "      <td>1993.0</td>\n",
       "      <td>3.93</td>\n",
       "      <td>512.0</td>\n",
       "      <td>29532.0</td>\n",
       "      <td>0</td>\n",
       "      <td>32.0</td>\n",
       "      <td>57</td>\n",
       "    </tr>\n",
       "    <tr>\n",
       "      <th>4</th>\n",
       "      <td>9780006280897</td>\n",
       "      <td>0006280897</td>\n",
       "      <td>The Four Loves</td>\n",
       "      <td>NaN</td>\n",
       "      <td>Clive Staples Lewis</td>\n",
       "      <td>Christian life</td>\n",
       "      <td>http://books.google.com/books/content?id=XhQ5X...</td>\n",
       "      <td>Lewis' work on the nature of love divides love...</td>\n",
       "      <td>2002.0</td>\n",
       "      <td>4.15</td>\n",
       "      <td>170.0</td>\n",
       "      <td>33684.0</td>\n",
       "      <td>0</td>\n",
       "      <td>23.0</td>\n",
       "      <td>45</td>\n",
       "    </tr>\n",
       "  </tbody>\n",
       "</table>\n",
       "</div>"
      ]
     },
     "execution_count": 17,
     "metadata": {},
     "output_type": "execute_result"
    }
   ],
   "execution_count": 17
  },
  {
   "metadata": {
    "ExecuteTime": {
     "end_time": "2025-07-17T15:57:29.010419Z",
     "start_time": "2025-07-17T15:57:28.902545Z"
    }
   },
   "cell_type": "code",
   "source": "book_not_missing.loc[book_not_missing['words_in_description'].between(1, 4), 'description'].head()",
   "id": "86f9edaa9e545261",
   "outputs": [
    {
     "data": {
      "text/plain": [
       "6                                 Donation.\n",
       "11                           Fantasy-roman.\n",
       "748    Includes bibliographical references.\n",
       "770                   Bound For Oregon (PB)\n",
       "775                      No Marketing Blurb\n",
       "Name: description, dtype: object"
      ]
     },
     "execution_count": 21,
     "metadata": {},
     "output_type": "execute_result"
    }
   ],
   "execution_count": 21
  },
  {
   "metadata": {
    "ExecuteTime": {
     "end_time": "2025-07-17T15:57:35.534585Z",
     "start_time": "2025-07-17T15:57:35.515259Z"
    }
   },
   "cell_type": "code",
   "source": "book_not_missing.loc[book_not_missing['words_in_description'].between(5, 14), 'description'].head()",
   "id": "ac590984112ec0ab",
   "outputs": [
    {
     "data": {
      "text/plain": [
       "2     Volume Two of Stephen Donaldson's acclaimed se...\n",
       "38    Koko is Peter Straub's foray into the psycholo...\n",
       "70    A matter of life and death - and the Throne of...\n",
       "77                       Nonsense rhyming story. 4 yrs+\n",
       "84    A study guide for the novel There's a Boy in t...\n",
       "Name: description, dtype: object"
      ]
     },
     "execution_count": 22,
     "metadata": {},
     "output_type": "execute_result"
    }
   ],
   "execution_count": 22
  },
  {
   "metadata": {
    "ExecuteTime": {
     "end_time": "2025-07-17T15:57:39.702037Z",
     "start_time": "2025-07-17T15:57:39.670740Z"
    }
   },
   "cell_type": "code",
   "source": "book_not_missing.loc[book_not_missing['words_in_description'].between(15, 24), 'description'].head()",
   "id": "6f2c2030ca8f1448",
   "outputs": [
    {
     "data": {
      "text/plain": [
       "10    One of Sidney Sheldon's most popular and bests...\n",
       "32    Tells the story of three generations of Chines...\n",
       "36    A magical and fantastic collection of early st...\n",
       "57    A young drifter finds more than he bargained f...\n",
       "68    A new 'The Doors of Perception' for the 21st c...\n",
       "Name: description, dtype: object"
      ]
     },
     "execution_count": 23,
     "metadata": {},
     "output_type": "execute_result"
    }
   ],
   "execution_count": 23
  },
  {
   "metadata": {},
   "cell_type": "markdown",
   "source": "Normally, with at least 30 words in a description can the information be conveyed effectively to the reader. So in this we will filter those values having at least 25 words in a description.",
   "id": "44505a506a6fbd6b"
  },
  {
   "metadata": {
    "ExecuteTime": {
     "end_time": "2025-07-17T16:04:17.292139Z",
     "start_time": "2025-07-17T16:04:17.108438Z"
    }
   },
   "cell_type": "code",
   "source": [
    "books_25_words_in_description = book_not_missing[book_not_missing['words_in_description'] >= 25]\n",
    "books_25_words_in_description.head()"
   ],
   "id": "c4d951210f4f7d32",
   "outputs": [
    {
     "data": {
      "text/plain": [
       "          isbn13      isbn10                title subtitle  \\\n",
       "0  9780002005883  0002005883               Gilead      NaN   \n",
       "1  9780002261982  0002261987         Spider's Web  A Novel   \n",
       "3  9780006178736  0006178731       Rage of angels      NaN   \n",
       "4  9780006280897  0006280897       The Four Loves      NaN   \n",
       "5  9780006280934  0006280935  The Problem of Pain      NaN   \n",
       "\n",
       "                           authors                     categories  \\\n",
       "0               Marilynne Robinson                        Fiction   \n",
       "1  Charles Osborne;Agatha Christie  Detective and mystery stories   \n",
       "3                   Sidney Sheldon                        Fiction   \n",
       "4              Clive Staples Lewis                 Christian life   \n",
       "5              Clive Staples Lewis                 Christian life   \n",
       "\n",
       "                                           thumbnail  \\\n",
       "0  http://books.google.com/books/content?id=KQZCP...   \n",
       "1  http://books.google.com/books/content?id=gA5GP...   \n",
       "3  http://books.google.com/books/content?id=FKo2T...   \n",
       "4  http://books.google.com/books/content?id=XhQ5X...   \n",
       "5  http://books.google.com/books/content?id=Kk-uV...   \n",
       "\n",
       "                                         description  published_year  \\\n",
       "0  A NOVEL THAT READERS and critics have been eag...          2004.0   \n",
       "1  A new 'Christie for Christmas' -- a full-lengt...          2000.0   \n",
       "3  A memorable, mesmerizing heroine Jennifer -- b...          1993.0   \n",
       "4  Lewis' work on the nature of love divides love...          2002.0   \n",
       "5  \"In The Problem of Pain, C.S. Lewis, one of th...          2002.0   \n",
       "\n",
       "   average_rating  num_pages  ratings_count  missing_description  \\\n",
       "0            3.85      247.0          361.0                    0   \n",
       "1            3.83      241.0         5164.0                    0   \n",
       "3            3.93      512.0        29532.0                    0   \n",
       "4            4.15      170.0        33684.0                    0   \n",
       "5            4.09      176.0        37569.0                    0   \n",
       "\n",
       "   age_of_books  words_in_description  \n",
       "0          21.0                   199  \n",
       "1          25.0                   205  \n",
       "3          32.0                    57  \n",
       "4          23.0                    45  \n",
       "5          23.0                    75  "
      ],
      "text/html": [
       "<div>\n",
       "<style scoped>\n",
       "    .dataframe tbody tr th:only-of-type {\n",
       "        vertical-align: middle;\n",
       "    }\n",
       "\n",
       "    .dataframe tbody tr th {\n",
       "        vertical-align: top;\n",
       "    }\n",
       "\n",
       "    .dataframe thead th {\n",
       "        text-align: right;\n",
       "    }\n",
       "</style>\n",
       "<table border=\"1\" class=\"dataframe\">\n",
       "  <thead>\n",
       "    <tr style=\"text-align: right;\">\n",
       "      <th></th>\n",
       "      <th>isbn13</th>\n",
       "      <th>isbn10</th>\n",
       "      <th>title</th>\n",
       "      <th>subtitle</th>\n",
       "      <th>authors</th>\n",
       "      <th>categories</th>\n",
       "      <th>thumbnail</th>\n",
       "      <th>description</th>\n",
       "      <th>published_year</th>\n",
       "      <th>average_rating</th>\n",
       "      <th>num_pages</th>\n",
       "      <th>ratings_count</th>\n",
       "      <th>missing_description</th>\n",
       "      <th>age_of_books</th>\n",
       "      <th>words_in_description</th>\n",
       "    </tr>\n",
       "  </thead>\n",
       "  <tbody>\n",
       "    <tr>\n",
       "      <th>0</th>\n",
       "      <td>9780002005883</td>\n",
       "      <td>0002005883</td>\n",
       "      <td>Gilead</td>\n",
       "      <td>NaN</td>\n",
       "      <td>Marilynne Robinson</td>\n",
       "      <td>Fiction</td>\n",
       "      <td>http://books.google.com/books/content?id=KQZCP...</td>\n",
       "      <td>A NOVEL THAT READERS and critics have been eag...</td>\n",
       "      <td>2004.0</td>\n",
       "      <td>3.85</td>\n",
       "      <td>247.0</td>\n",
       "      <td>361.0</td>\n",
       "      <td>0</td>\n",
       "      <td>21.0</td>\n",
       "      <td>199</td>\n",
       "    </tr>\n",
       "    <tr>\n",
       "      <th>1</th>\n",
       "      <td>9780002261982</td>\n",
       "      <td>0002261987</td>\n",
       "      <td>Spider's Web</td>\n",
       "      <td>A Novel</td>\n",
       "      <td>Charles Osborne;Agatha Christie</td>\n",
       "      <td>Detective and mystery stories</td>\n",
       "      <td>http://books.google.com/books/content?id=gA5GP...</td>\n",
       "      <td>A new 'Christie for Christmas' -- a full-lengt...</td>\n",
       "      <td>2000.0</td>\n",
       "      <td>3.83</td>\n",
       "      <td>241.0</td>\n",
       "      <td>5164.0</td>\n",
       "      <td>0</td>\n",
       "      <td>25.0</td>\n",
       "      <td>205</td>\n",
       "    </tr>\n",
       "    <tr>\n",
       "      <th>3</th>\n",
       "      <td>9780006178736</td>\n",
       "      <td>0006178731</td>\n",
       "      <td>Rage of angels</td>\n",
       "      <td>NaN</td>\n",
       "      <td>Sidney Sheldon</td>\n",
       "      <td>Fiction</td>\n",
       "      <td>http://books.google.com/books/content?id=FKo2T...</td>\n",
       "      <td>A memorable, mesmerizing heroine Jennifer -- b...</td>\n",
       "      <td>1993.0</td>\n",
       "      <td>3.93</td>\n",
       "      <td>512.0</td>\n",
       "      <td>29532.0</td>\n",
       "      <td>0</td>\n",
       "      <td>32.0</td>\n",
       "      <td>57</td>\n",
       "    </tr>\n",
       "    <tr>\n",
       "      <th>4</th>\n",
       "      <td>9780006280897</td>\n",
       "      <td>0006280897</td>\n",
       "      <td>The Four Loves</td>\n",
       "      <td>NaN</td>\n",
       "      <td>Clive Staples Lewis</td>\n",
       "      <td>Christian life</td>\n",
       "      <td>http://books.google.com/books/content?id=XhQ5X...</td>\n",
       "      <td>Lewis' work on the nature of love divides love...</td>\n",
       "      <td>2002.0</td>\n",
       "      <td>4.15</td>\n",
       "      <td>170.0</td>\n",
       "      <td>33684.0</td>\n",
       "      <td>0</td>\n",
       "      <td>23.0</td>\n",
       "      <td>45</td>\n",
       "    </tr>\n",
       "    <tr>\n",
       "      <th>5</th>\n",
       "      <td>9780006280934</td>\n",
       "      <td>0006280935</td>\n",
       "      <td>The Problem of Pain</td>\n",
       "      <td>NaN</td>\n",
       "      <td>Clive Staples Lewis</td>\n",
       "      <td>Christian life</td>\n",
       "      <td>http://books.google.com/books/content?id=Kk-uV...</td>\n",
       "      <td>\"In The Problem of Pain, C.S. Lewis, one of th...</td>\n",
       "      <td>2002.0</td>\n",
       "      <td>4.09</td>\n",
       "      <td>176.0</td>\n",
       "      <td>37569.0</td>\n",
       "      <td>0</td>\n",
       "      <td>23.0</td>\n",
       "      <td>75</td>\n",
       "    </tr>\n",
       "  </tbody>\n",
       "</table>\n",
       "</div>"
      ]
     },
     "execution_count": 24,
     "metadata": {},
     "output_type": "execute_result"
    }
   ],
   "execution_count": 24
  },
  {
   "metadata": {
    "ExecuteTime": {
     "end_time": "2025-07-17T16:05:22.871550Z",
     "start_time": "2025-07-17T16:05:22.842923Z"
    }
   },
   "cell_type": "code",
   "source": "print(\"The shape of book dataset after removing short descriptions:\", books_25_words_in_description.shape)",
   "id": "8f98cc821beb6297",
   "outputs": [
    {
     "name": "stdout",
     "output_type": "stream",
     "text": [
      "The shape of book dataset after removing short descriptions: (5197, 15)\n"
     ]
    }
   ],
   "execution_count": 25
  },
  {
   "metadata": {},
   "cell_type": "markdown",
   "source": "### **6. Final cleaning step**",
   "id": "f12cab8acc706750"
  },
  {
   "metadata": {},
   "cell_type": "markdown",
   "source": "To enhance the descriptive quality of book titles for content-based recommendation, we combined the **title** and **subtitle** columns into a single field called **title_and_subtitle**. Since many entries in the subtitle column are missing, we only appended the subtitle to the title when it was present and non-empty. The combined format follows a natural structure like **\"Title: Subtitle\"**",
   "id": "a42e61d67eda3280"
  },
  {
   "metadata": {
    "ExecuteTime": {
     "end_time": "2025-07-17T16:41:24.136840Z",
     "start_time": "2025-07-17T16:41:24.111388Z"
    }
   },
   "cell_type": "code",
   "source": [
    "raw = \"  I love you so much  \"\n",
    "raw.strip()"
   ],
   "id": "291970406bfb60de",
   "outputs": [
    {
     "data": {
      "text/plain": [
       "'I love you so much'"
      ]
     },
     "execution_count": 29,
     "metadata": {},
     "output_type": "execute_result"
    }
   ],
   "execution_count": 29
  },
  {
   "metadata": {
    "ExecuteTime": {
     "end_time": "2025-07-17T16:42:50.531265Z",
     "start_time": "2025-07-17T16:42:50.221517Z"
    }
   },
   "cell_type": "code",
   "source": [
    "# Function to combine title and subtitle (if subtitle is not a missing value)\n",
    "def combine_title_subtitle(row):\n",
    "    if pd.notna(row['subtitle']) and row['subtitle'].strip() != \"\":\n",
    "        return f\"{row['title']}: {row['subtitle']}\"\n",
    "    else:\n",
    "        return row['title']\n",
    "\n",
    "books_25_words_in_description['title_and_subtitle'] = books_25_words_in_description.apply(combine_title_subtitle, axis=1)"
   ],
   "id": "2e51f5885eafe542",
   "outputs": [
    {
     "name": "stderr",
     "output_type": "stream",
     "text": [
      "C:\\Users\\ngmin\\AppData\\Local\\Temp\\ipykernel_8176\\813681490.py:7: SettingWithCopyWarning:\n",
      "\n",
      "\n",
      "A value is trying to be set on a copy of a slice from a DataFrame.\n",
      "Try using .loc[row_indexer,col_indexer] = value instead\n",
      "\n",
      "See the caveats in the documentation: https://pandas.pydata.org/pandas-docs/stable/user_guide/indexing.html#returning-a-view-versus-a-copy\n",
      "\n"
     ]
    }
   ],
   "execution_count": 30
  },
  {
   "metadata": {
    "ExecuteTime": {
     "end_time": "2025-07-17T16:42:56.044175Z",
     "start_time": "2025-07-17T16:42:55.996908Z"
    }
   },
   "cell_type": "code",
   "source": "books_25_words_in_description.head()",
   "id": "2b0f003c14cbe384",
   "outputs": [
    {
     "data": {
      "text/plain": [
       "          isbn13      isbn10                title subtitle  \\\n",
       "0  9780002005883  0002005883               Gilead      NaN   \n",
       "1  9780002261982  0002261987         Spider's Web  A Novel   \n",
       "3  9780006178736  0006178731       Rage of angels      NaN   \n",
       "4  9780006280897  0006280897       The Four Loves      NaN   \n",
       "5  9780006280934  0006280935  The Problem of Pain      NaN   \n",
       "\n",
       "                           authors                     categories  \\\n",
       "0               Marilynne Robinson                        Fiction   \n",
       "1  Charles Osborne;Agatha Christie  Detective and mystery stories   \n",
       "3                   Sidney Sheldon                        Fiction   \n",
       "4              Clive Staples Lewis                 Christian life   \n",
       "5              Clive Staples Lewis                 Christian life   \n",
       "\n",
       "                                           thumbnail  \\\n",
       "0  http://books.google.com/books/content?id=KQZCP...   \n",
       "1  http://books.google.com/books/content?id=gA5GP...   \n",
       "3  http://books.google.com/books/content?id=FKo2T...   \n",
       "4  http://books.google.com/books/content?id=XhQ5X...   \n",
       "5  http://books.google.com/books/content?id=Kk-uV...   \n",
       "\n",
       "                                         description  published_year  \\\n",
       "0  A NOVEL THAT READERS and critics have been eag...          2004.0   \n",
       "1  A new 'Christie for Christmas' -- a full-lengt...          2000.0   \n",
       "3  A memorable, mesmerizing heroine Jennifer -- b...          1993.0   \n",
       "4  Lewis' work on the nature of love divides love...          2002.0   \n",
       "5  \"In The Problem of Pain, C.S. Lewis, one of th...          2002.0   \n",
       "\n",
       "   average_rating  num_pages  ratings_count  missing_description  \\\n",
       "0            3.85      247.0          361.0                    0   \n",
       "1            3.83      241.0         5164.0                    0   \n",
       "3            3.93      512.0        29532.0                    0   \n",
       "4            4.15      170.0        33684.0                    0   \n",
       "5            4.09      176.0        37569.0                    0   \n",
       "\n",
       "   age_of_books  words_in_description     title_and_subtitle  \n",
       "0          21.0                   199                 Gilead  \n",
       "1          25.0                   205  Spider's Web: A Novel  \n",
       "3          32.0                    57         Rage of angels  \n",
       "4          23.0                    45         The Four Loves  \n",
       "5          23.0                    75    The Problem of Pain  "
      ],
      "text/html": [
       "<div>\n",
       "<style scoped>\n",
       "    .dataframe tbody tr th:only-of-type {\n",
       "        vertical-align: middle;\n",
       "    }\n",
       "\n",
       "    .dataframe tbody tr th {\n",
       "        vertical-align: top;\n",
       "    }\n",
       "\n",
       "    .dataframe thead th {\n",
       "        text-align: right;\n",
       "    }\n",
       "</style>\n",
       "<table border=\"1\" class=\"dataframe\">\n",
       "  <thead>\n",
       "    <tr style=\"text-align: right;\">\n",
       "      <th></th>\n",
       "      <th>isbn13</th>\n",
       "      <th>isbn10</th>\n",
       "      <th>title</th>\n",
       "      <th>subtitle</th>\n",
       "      <th>authors</th>\n",
       "      <th>categories</th>\n",
       "      <th>thumbnail</th>\n",
       "      <th>description</th>\n",
       "      <th>published_year</th>\n",
       "      <th>average_rating</th>\n",
       "      <th>num_pages</th>\n",
       "      <th>ratings_count</th>\n",
       "      <th>missing_description</th>\n",
       "      <th>age_of_books</th>\n",
       "      <th>words_in_description</th>\n",
       "      <th>title_and_subtitle</th>\n",
       "    </tr>\n",
       "  </thead>\n",
       "  <tbody>\n",
       "    <tr>\n",
       "      <th>0</th>\n",
       "      <td>9780002005883</td>\n",
       "      <td>0002005883</td>\n",
       "      <td>Gilead</td>\n",
       "      <td>NaN</td>\n",
       "      <td>Marilynne Robinson</td>\n",
       "      <td>Fiction</td>\n",
       "      <td>http://books.google.com/books/content?id=KQZCP...</td>\n",
       "      <td>A NOVEL THAT READERS and critics have been eag...</td>\n",
       "      <td>2004.0</td>\n",
       "      <td>3.85</td>\n",
       "      <td>247.0</td>\n",
       "      <td>361.0</td>\n",
       "      <td>0</td>\n",
       "      <td>21.0</td>\n",
       "      <td>199</td>\n",
       "      <td>Gilead</td>\n",
       "    </tr>\n",
       "    <tr>\n",
       "      <th>1</th>\n",
       "      <td>9780002261982</td>\n",
       "      <td>0002261987</td>\n",
       "      <td>Spider's Web</td>\n",
       "      <td>A Novel</td>\n",
       "      <td>Charles Osborne;Agatha Christie</td>\n",
       "      <td>Detective and mystery stories</td>\n",
       "      <td>http://books.google.com/books/content?id=gA5GP...</td>\n",
       "      <td>A new 'Christie for Christmas' -- a full-lengt...</td>\n",
       "      <td>2000.0</td>\n",
       "      <td>3.83</td>\n",
       "      <td>241.0</td>\n",
       "      <td>5164.0</td>\n",
       "      <td>0</td>\n",
       "      <td>25.0</td>\n",
       "      <td>205</td>\n",
       "      <td>Spider's Web: A Novel</td>\n",
       "    </tr>\n",
       "    <tr>\n",
       "      <th>3</th>\n",
       "      <td>9780006178736</td>\n",
       "      <td>0006178731</td>\n",
       "      <td>Rage of angels</td>\n",
       "      <td>NaN</td>\n",
       "      <td>Sidney Sheldon</td>\n",
       "      <td>Fiction</td>\n",
       "      <td>http://books.google.com/books/content?id=FKo2T...</td>\n",
       "      <td>A memorable, mesmerizing heroine Jennifer -- b...</td>\n",
       "      <td>1993.0</td>\n",
       "      <td>3.93</td>\n",
       "      <td>512.0</td>\n",
       "      <td>29532.0</td>\n",
       "      <td>0</td>\n",
       "      <td>32.0</td>\n",
       "      <td>57</td>\n",
       "      <td>Rage of angels</td>\n",
       "    </tr>\n",
       "    <tr>\n",
       "      <th>4</th>\n",
       "      <td>9780006280897</td>\n",
       "      <td>0006280897</td>\n",
       "      <td>The Four Loves</td>\n",
       "      <td>NaN</td>\n",
       "      <td>Clive Staples Lewis</td>\n",
       "      <td>Christian life</td>\n",
       "      <td>http://books.google.com/books/content?id=XhQ5X...</td>\n",
       "      <td>Lewis' work on the nature of love divides love...</td>\n",
       "      <td>2002.0</td>\n",
       "      <td>4.15</td>\n",
       "      <td>170.0</td>\n",
       "      <td>33684.0</td>\n",
       "      <td>0</td>\n",
       "      <td>23.0</td>\n",
       "      <td>45</td>\n",
       "      <td>The Four Loves</td>\n",
       "    </tr>\n",
       "    <tr>\n",
       "      <th>5</th>\n",
       "      <td>9780006280934</td>\n",
       "      <td>0006280935</td>\n",
       "      <td>The Problem of Pain</td>\n",
       "      <td>NaN</td>\n",
       "      <td>Clive Staples Lewis</td>\n",
       "      <td>Christian life</td>\n",
       "      <td>http://books.google.com/books/content?id=Kk-uV...</td>\n",
       "      <td>\"In The Problem of Pain, C.S. Lewis, one of th...</td>\n",
       "      <td>2002.0</td>\n",
       "      <td>4.09</td>\n",
       "      <td>176.0</td>\n",
       "      <td>37569.0</td>\n",
       "      <td>0</td>\n",
       "      <td>23.0</td>\n",
       "      <td>75</td>\n",
       "      <td>The Problem of Pain</td>\n",
       "    </tr>\n",
       "  </tbody>\n",
       "</table>\n",
       "</div>"
      ]
     },
     "execution_count": 31,
     "metadata": {},
     "output_type": "execute_result"
    }
   ],
   "execution_count": 31
  },
  {
   "metadata": {},
   "cell_type": "markdown",
   "source": [
    "Next, we will merge the column **isbn13** and **description** to a new column called **tagged_description**. This column combines each book's unique identifier with its textual description. By doing so, we ensure that\n",
    "every piece of descriptive content is directly associated with its corresponding book. This is particularly useful for downstream tasks such as vectorization and semantic search, where retaining a reference to the original source within the text can enhance traceability, retrieval accuracy, and model interpretability."
   ],
   "id": "156848da78858761"
  },
  {
   "metadata": {
    "ExecuteTime": {
     "end_time": "2025-07-17T16:54:48.154045Z",
     "start_time": "2025-07-17T16:54:46.831630Z"
    }
   },
   "cell_type": "code",
   "source": "books_25_words_in_description['tagged_description'] = books_25_words_in_description[['isbn13', 'description']].astype(str).agg(\" \".join, axis=1)",
   "id": "ecc7b5de3edf05e5",
   "outputs": [
    {
     "name": "stderr",
     "output_type": "stream",
     "text": [
      "C:\\Users\\ngmin\\AppData\\Local\\Temp\\ipykernel_8176\\468495441.py:1: SettingWithCopyWarning:\n",
      "\n",
      "\n",
      "A value is trying to be set on a copy of a slice from a DataFrame.\n",
      "Try using .loc[row_indexer,col_indexer] = value instead\n",
      "\n",
      "See the caveats in the documentation: https://pandas.pydata.org/pandas-docs/stable/user_guide/indexing.html#returning-a-view-versus-a-copy\n",
      "\n"
     ]
    }
   ],
   "execution_count": 32
  },
  {
   "metadata": {
    "ExecuteTime": {
     "end_time": "2025-07-17T16:55:21.062809Z",
     "start_time": "2025-07-17T16:55:21.046860Z"
    }
   },
   "cell_type": "code",
   "source": "books_25_words_in_description['tagged_description'].head()",
   "id": "4209d4f6f8205113",
   "outputs": [
    {
     "data": {
      "text/plain": [
       "0    9780002005883 A NOVEL THAT READERS and critics...\n",
       "1    9780002261982 A new 'Christie for Christmas' -...\n",
       "3    9780006178736 A memorable, mesmerizing heroine...\n",
       "4    9780006280897 Lewis' work on the nature of lov...\n",
       "5    9780006280934 \"In The Problem of Pain, C.S. Le...\n",
       "Name: tagged_description, dtype: object"
      ]
     },
     "execution_count": 34,
     "metadata": {},
     "output_type": "execute_result"
    }
   ],
   "execution_count": 34
  },
  {
   "metadata": {},
   "cell_type": "markdown",
   "source": "Finally, we will drop unnecessary columns for the building model step after and convert to a new file dataset as a clean file",
   "id": "7b51b567edc53892"
  },
  {
   "metadata": {
    "ExecuteTime": {
     "end_time": "2025-07-17T16:58:14.740805Z",
     "start_time": "2025-07-17T16:58:14.607156Z"
    }
   },
   "cell_type": "code",
   "source": "books_25_words_in_description.columns",
   "id": "809529981adb2c1c",
   "outputs": [
    {
     "data": {
      "text/plain": [
       "Index(['isbn13', 'isbn10', 'title', 'subtitle', 'authors', 'categories',\n",
       "       'thumbnail', 'description', 'published_year', 'average_rating',\n",
       "       'num_pages', 'ratings_count', 'missing_description', 'age_of_books',\n",
       "       'words_in_description', 'title_and_subtitle', 'tagged_description'],\n",
       "      dtype='object')"
      ]
     },
     "execution_count": 35,
     "metadata": {},
     "output_type": "execute_result"
    }
   ],
   "execution_count": 35
  },
  {
   "metadata": {
    "ExecuteTime": {
     "end_time": "2025-07-17T16:59:10.309397Z",
     "start_time": "2025-07-17T16:59:10.113201Z"
    }
   },
   "cell_type": "code",
   "source": "books_25_words_in_description.drop(['subtitle', 'missing_description', 'age_of_books', 'words_in_description'], axis=1, inplace=True)",
   "id": "34baac12b4fb5e99",
   "outputs": [
    {
     "name": "stderr",
     "output_type": "stream",
     "text": [
      "C:\\Users\\ngmin\\AppData\\Local\\Temp\\ipykernel_8176\\1953801955.py:1: SettingWithCopyWarning:\n",
      "\n",
      "\n",
      "A value is trying to be set on a copy of a slice from a DataFrame\n",
      "\n",
      "See the caveats in the documentation: https://pandas.pydata.org/pandas-docs/stable/user_guide/indexing.html#returning-a-view-versus-a-copy\n",
      "\n"
     ]
    }
   ],
   "execution_count": 36
  },
  {
   "metadata": {
    "ExecuteTime": {
     "end_time": "2025-07-17T17:02:27.803951Z",
     "start_time": "2025-07-17T17:02:27.551212Z"
    }
   },
   "cell_type": "code",
   "source": "books_25_words_in_description.to_csv(r\"D:\\Workspace\\LLM\\Book Recommendation\\dataset\\books_cleaned.csv\", index=False)",
   "id": "5a3bcb1063432c88",
   "outputs": [],
   "execution_count": 38
  }
 ],
 "metadata": {
  "kernelspec": {
   "display_name": "Python 3",
   "language": "python",
   "name": "python3"
  },
  "language_info": {
   "codemirror_mode": {
    "name": "ipython",
    "version": 2
   },
   "file_extension": ".py",
   "mimetype": "text/x-python",
   "name": "python",
   "nbconvert_exporter": "python",
   "pygments_lexer": "ipython2",
   "version": "2.7.6"
  }
 },
 "nbformat": 4,
 "nbformat_minor": 5
}
