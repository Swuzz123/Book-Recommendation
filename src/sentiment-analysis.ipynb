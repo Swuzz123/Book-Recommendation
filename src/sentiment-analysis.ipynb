{
 "nbformat": 4,
 "nbformat_minor": 0,
 "metadata": {
  "colab": {
   "provenance": [],
   "mount_file_id": "1sLwqx5OrzzYGHyWc0i30WKgqFSHmFVAK",
   "authorship_tag": "ABX9TyOolGYjJ8ekPTysr6lQwt45"
  },
  "kernelspec": {
   "name": "python3",
   "display_name": "Python 3"
  },
  "language_info": {
   "name": "python"
  }
 },
 "cells": [
  {
   "cell_type": "code",
   "metadata": {
    "id": "P-stjI5JcEh4",
    "executionInfo": {
     "status": "ok",
     "timestamp": 1753367201341,
     "user_tz": -420,
     "elapsed": 1056,
     "user": {
      "displayName": "Minh Trí Nguyễn",
      "userId": "01251723066596770068"
     }
    },
    "ExecuteTime": {
     "end_time": "2025-07-25T04:23:54.672325Z",
     "start_time": "2025-07-25T04:23:50.085677Z"
    }
   },
   "source": [
    "import pandas as pd\n",
    "import numpy as np"
   ],
   "outputs": [],
   "execution_count": 1
  },
  {
   "metadata": {
    "ExecuteTime": {
     "end_time": "2025-07-25T04:25:42.748832Z",
     "start_time": "2025-07-25T04:25:42.700010Z"
    }
   },
   "cell_type": "code",
   "source": [
    "from dotenv import load_dotenv\n",
    "import os\n",
    "\n",
    "# Load file .env\n",
    "load_dotenv()\n",
    "os.environ[\"HF_TOKEN\"] = os.getenv(\"HF_TOKEN\")"
   ],
   "outputs": [],
   "execution_count": 4
  },
  {
   "cell_type": "code",
   "source": [
    "books = pd.read_csv('D://Workspace//LLM//Book Recommendation//dataset//books_with_categories.csv')\n",
    "books.head()"
   ],
   "metadata": {
    "colab": {
     "base_uri": "https://localhost:8080/",
     "height": 556
    },
    "id": "p4CQP6oOchrw",
    "executionInfo": {
     "status": "ok",
     "timestamp": 1753367201824,
     "user_tz": -420,
     "elapsed": 477,
     "user": {
      "displayName": "Minh Trí Nguyễn",
      "userId": "01251723066596770068"
     }
    },
    "outputId": "8990f665-6a32-4ea9-c330-eb6d1b020646",
    "ExecuteTime": {
     "end_time": "2025-07-25T04:23:55.073408Z",
     "start_time": "2025-07-25T04:23:54.721834Z"
    }
   },
   "outputs": [
    {
     "data": {
      "text/plain": [
       "          isbn13      isbn10                title  \\\n",
       "0  9780002005883  0002005883               Gilead   \n",
       "1  9780002261982  0002261987         Spider's Web   \n",
       "2  9780006178736  0006178731       Rage of angels   \n",
       "3  9780006280897  0006280897       The Four Loves   \n",
       "4  9780006280934  0006280935  The Problem of Pain   \n",
       "\n",
       "                           authors                     categories  \\\n",
       "0               Marilynne Robinson                        Fiction   \n",
       "1  Charles Osborne;Agatha Christie  Detective and mystery stories   \n",
       "2                   Sidney Sheldon                        Fiction   \n",
       "3              Clive Staples Lewis                 Christian life   \n",
       "4              Clive Staples Lewis                 Christian life   \n",
       "\n",
       "                                           thumbnail  \\\n",
       "0  http://books.google.com/books/content?id=KQZCP...   \n",
       "1  http://books.google.com/books/content?id=gA5GP...   \n",
       "2  http://books.google.com/books/content?id=FKo2T...   \n",
       "3  http://books.google.com/books/content?id=XhQ5X...   \n",
       "4  http://books.google.com/books/content?id=Kk-uV...   \n",
       "\n",
       "                                         description  published_year  \\\n",
       "0  A NOVEL THAT READERS and critics have been eag...          2004.0   \n",
       "1  A new 'Christie for Christmas' -- a full-lengt...          2000.0   \n",
       "2  A memorable, mesmerizing heroine Jennifer -- b...          1993.0   \n",
       "3  Lewis' work on the nature of love divides love...          2002.0   \n",
       "4  \"In The Problem of Pain, C.S. Lewis, one of th...          2002.0   \n",
       "\n",
       "   average_rating  num_pages  ratings_count     title_and_subtitle  \\\n",
       "0            3.85      247.0          361.0                 Gilead   \n",
       "1            3.83      241.0         5164.0  Spider's Web: A Novel   \n",
       "2            3.93      512.0        29532.0         Rage of angels   \n",
       "3            4.15      170.0        33684.0         The Four Loves   \n",
       "4            4.09      176.0        37569.0    The Problem of Pain   \n",
       "\n",
       "                                  tagged_description simple_categories  \n",
       "0  9780002005883 A NOVEL THAT READERS and critics...           Fiction  \n",
       "1  9780002261982 A new 'Christie for Christmas' -...           Fiction  \n",
       "2  9780006178736 A memorable, mesmerizing heroine...           Fiction  \n",
       "3  9780006280897 Lewis' work on the nature of lov...        Nonfiction  \n",
       "4  9780006280934 \"In The Problem of Pain, C.S. Le...        Nonfiction  "
      ],
      "text/html": [
       "<div>\n",
       "<style scoped>\n",
       "    .dataframe tbody tr th:only-of-type {\n",
       "        vertical-align: middle;\n",
       "    }\n",
       "\n",
       "    .dataframe tbody tr th {\n",
       "        vertical-align: top;\n",
       "    }\n",
       "\n",
       "    .dataframe thead th {\n",
       "        text-align: right;\n",
       "    }\n",
       "</style>\n",
       "<table border=\"1\" class=\"dataframe\">\n",
       "  <thead>\n",
       "    <tr style=\"text-align: right;\">\n",
       "      <th></th>\n",
       "      <th>isbn13</th>\n",
       "      <th>isbn10</th>\n",
       "      <th>title</th>\n",
       "      <th>authors</th>\n",
       "      <th>categories</th>\n",
       "      <th>thumbnail</th>\n",
       "      <th>description</th>\n",
       "      <th>published_year</th>\n",
       "      <th>average_rating</th>\n",
       "      <th>num_pages</th>\n",
       "      <th>ratings_count</th>\n",
       "      <th>title_and_subtitle</th>\n",
       "      <th>tagged_description</th>\n",
       "      <th>simple_categories</th>\n",
       "    </tr>\n",
       "  </thead>\n",
       "  <tbody>\n",
       "    <tr>\n",
       "      <th>0</th>\n",
       "      <td>9780002005883</td>\n",
       "      <td>0002005883</td>\n",
       "      <td>Gilead</td>\n",
       "      <td>Marilynne Robinson</td>\n",
       "      <td>Fiction</td>\n",
       "      <td>http://books.google.com/books/content?id=KQZCP...</td>\n",
       "      <td>A NOVEL THAT READERS and critics have been eag...</td>\n",
       "      <td>2004.0</td>\n",
       "      <td>3.85</td>\n",
       "      <td>247.0</td>\n",
       "      <td>361.0</td>\n",
       "      <td>Gilead</td>\n",
       "      <td>9780002005883 A NOVEL THAT READERS and critics...</td>\n",
       "      <td>Fiction</td>\n",
       "    </tr>\n",
       "    <tr>\n",
       "      <th>1</th>\n",
       "      <td>9780002261982</td>\n",
       "      <td>0002261987</td>\n",
       "      <td>Spider's Web</td>\n",
       "      <td>Charles Osborne;Agatha Christie</td>\n",
       "      <td>Detective and mystery stories</td>\n",
       "      <td>http://books.google.com/books/content?id=gA5GP...</td>\n",
       "      <td>A new 'Christie for Christmas' -- a full-lengt...</td>\n",
       "      <td>2000.0</td>\n",
       "      <td>3.83</td>\n",
       "      <td>241.0</td>\n",
       "      <td>5164.0</td>\n",
       "      <td>Spider's Web: A Novel</td>\n",
       "      <td>9780002261982 A new 'Christie for Christmas' -...</td>\n",
       "      <td>Fiction</td>\n",
       "    </tr>\n",
       "    <tr>\n",
       "      <th>2</th>\n",
       "      <td>9780006178736</td>\n",
       "      <td>0006178731</td>\n",
       "      <td>Rage of angels</td>\n",
       "      <td>Sidney Sheldon</td>\n",
       "      <td>Fiction</td>\n",
       "      <td>http://books.google.com/books/content?id=FKo2T...</td>\n",
       "      <td>A memorable, mesmerizing heroine Jennifer -- b...</td>\n",
       "      <td>1993.0</td>\n",
       "      <td>3.93</td>\n",
       "      <td>512.0</td>\n",
       "      <td>29532.0</td>\n",
       "      <td>Rage of angels</td>\n",
       "      <td>9780006178736 A memorable, mesmerizing heroine...</td>\n",
       "      <td>Fiction</td>\n",
       "    </tr>\n",
       "    <tr>\n",
       "      <th>3</th>\n",
       "      <td>9780006280897</td>\n",
       "      <td>0006280897</td>\n",
       "      <td>The Four Loves</td>\n",
       "      <td>Clive Staples Lewis</td>\n",
       "      <td>Christian life</td>\n",
       "      <td>http://books.google.com/books/content?id=XhQ5X...</td>\n",
       "      <td>Lewis' work on the nature of love divides love...</td>\n",
       "      <td>2002.0</td>\n",
       "      <td>4.15</td>\n",
       "      <td>170.0</td>\n",
       "      <td>33684.0</td>\n",
       "      <td>The Four Loves</td>\n",
       "      <td>9780006280897 Lewis' work on the nature of lov...</td>\n",
       "      <td>Nonfiction</td>\n",
       "    </tr>\n",
       "    <tr>\n",
       "      <th>4</th>\n",
       "      <td>9780006280934</td>\n",
       "      <td>0006280935</td>\n",
       "      <td>The Problem of Pain</td>\n",
       "      <td>Clive Staples Lewis</td>\n",
       "      <td>Christian life</td>\n",
       "      <td>http://books.google.com/books/content?id=Kk-uV...</td>\n",
       "      <td>\"In The Problem of Pain, C.S. Lewis, one of th...</td>\n",
       "      <td>2002.0</td>\n",
       "      <td>4.09</td>\n",
       "      <td>176.0</td>\n",
       "      <td>37569.0</td>\n",
       "      <td>The Problem of Pain</td>\n",
       "      <td>9780006280934 \"In The Problem of Pain, C.S. Le...</td>\n",
       "      <td>Nonfiction</td>\n",
       "    </tr>\n",
       "  </tbody>\n",
       "</table>\n",
       "</div>"
      ]
     },
     "execution_count": 2,
     "metadata": {},
     "output_type": "execute_result"
    }
   ],
   "execution_count": 2
  },
  {
   "cell_type": "markdown",
   "source": [
    "### **1. Extracting emotions from book descriptions**"
   ],
   "metadata": {
    "id": "OImGGIqNeUe6"
   }
  },
  {
   "cell_type": "code",
   "source": [
    "from transformers import pipeline\n",
    "classifier = pipeline(\"text-classification\",\n",
    "                      model=\"j-hartmann/emotion-english-distilroberta-base\",\n",
    "                      top_k = None,\n",
    "                      device = 'cpu')\n",
    "classifier(\"I love this!\")"
   ],
   "metadata": {
    "colab": {
     "base_uri": "https://localhost:8080/"
    },
    "id": "fa5qGVh0c6yM",
    "executionInfo": {
     "status": "ok",
     "timestamp": 1753367258661,
     "user_tz": -420,
     "elapsed": 56832,
     "user": {
      "displayName": "Minh Trí Nguyễn",
      "userId": "01251723066596770068"
     }
    },
    "outputId": "e0274168-503a-43ba-b0fe-88b420efe409",
    "ExecuteTime": {
     "end_time": "2025-07-25T04:27:59.958404Z",
     "start_time": "2025-07-25T04:27:56.698544Z"
    }
   },
   "outputs": [
    {
     "name": "stderr",
     "output_type": "stream",
     "text": [
      "Device set to use cpu\n"
     ]
    },
    {
     "data": {
      "text/plain": [
       "[[{'label': 'joy', 'score': 0.9771687984466553},\n",
       "  {'label': 'surprise', 'score': 0.008528673090040684},\n",
       "  {'label': 'neutral', 'score': 0.005764589179307222},\n",
       "  {'label': 'anger', 'score': 0.004419779404997826},\n",
       "  {'label': 'sadness', 'score': 0.002092391485348344},\n",
       "  {'label': 'disgust', 'score': 0.0016119909705594182},\n",
       "  {'label': 'fear', 'score': 0.00041385178337804973}]]"
      ]
     },
     "execution_count": 6,
     "metadata": {},
     "output_type": "execute_result"
    }
   ],
   "execution_count": 6
  },
  {
   "cell_type": "code",
   "source": [
    "books['description'][0]"
   ],
   "metadata": {
    "colab": {
     "base_uri": "https://localhost:8080/",
     "height": 105
    },
    "id": "oSaqxoEYfzIL",
    "executionInfo": {
     "status": "ok",
     "timestamp": 1753367258690,
     "user_tz": -420,
     "elapsed": 26,
     "user": {
      "displayName": "Minh Trí Nguyễn",
      "userId": "01251723066596770068"
     }
    },
    "outputId": "4b280c34-94e5-47d7-e918-f0ce4b6730f2",
    "ExecuteTime": {
     "end_time": "2025-07-25T04:28:04.446269Z",
     "start_time": "2025-07-25T04:28:04.430076Z"
    }
   },
   "outputs": [
    {
     "data": {
      "text/plain": [
       "'A NOVEL THAT READERS and critics have been eagerly anticipating for over a decade, Gilead is an astonishingly imagined story of remarkable lives. John Ames is a preacher, the son of a preacher and the grandson (both maternal and paternal) of preachers. It’s 1956 in Gilead, Iowa, towards the end of the Reverend Ames’s life, and he is absorbed in recording his family’s story, a legacy for the young son he will never see grow up. Haunted by his grandfather’s presence, John tells of the rift between his grandfather and his father: the elder, an angry visionary who fought for the abolitionist cause, and his son, an ardent pacifist. He is troubled, too, by his prodigal namesake, Jack (John Ames) Boughton, his best friend’s lost son who returns to Gilead searching for forgiveness and redemption. Told in John Ames’s joyous, rambling voice that finds beauty, humour and truth in the smallest of life’s details, Gilead is a song of celebration and acceptance of the best and the worst the world has to offer. At its heart is a tale of the sacred bonds between fathers and sons, pitch-perfect in style and story, set to dazzle critics and readers alike.'"
      ]
     },
     "execution_count": 7,
     "metadata": {},
     "output_type": "execute_result"
    }
   ],
   "execution_count": 7
  },
  {
   "cell_type": "code",
   "source": [
    "classifier(books['description'][0])"
   ],
   "metadata": {
    "colab": {
     "base_uri": "https://localhost:8080/"
    },
    "id": "vTFxXAMWf7sC",
    "executionInfo": {
     "status": "ok",
     "timestamp": 1753367259804,
     "user_tz": -420,
     "elapsed": 1111,
     "user": {
      "displayName": "Minh Trí Nguyễn",
      "userId": "01251723066596770068"
     }
    },
    "outputId": "72dd88f5-b265-4ac5-b4da-eb996046176a",
    "ExecuteTime": {
     "end_time": "2025-07-25T04:28:06.456184Z",
     "start_time": "2025-07-25T04:28:06.155241Z"
    }
   },
   "outputs": [
    {
     "data": {
      "text/plain": [
       "[[{'label': 'fear', 'score': 0.6548418998718262},\n",
       "  {'label': 'neutral', 'score': 0.16985182464122772},\n",
       "  {'label': 'sadness', 'score': 0.11640854179859161},\n",
       "  {'label': 'surprise', 'score': 0.020700592547655106},\n",
       "  {'label': 'disgust', 'score': 0.01910073682665825},\n",
       "  {'label': 'joy', 'score': 0.015161239542067051},\n",
       "  {'label': 'anger', 'score': 0.00393515033647418}]]"
      ]
     },
     "execution_count": 8,
     "metadata": {},
     "output_type": "execute_result"
    }
   ],
   "execution_count": 8
  },
  {
   "cell_type": "markdown",
   "source": "It can be seen that the first sentence containing 'astonishingly' leans towards astonishment, while other sentences may carry emotions of fear, joy, or neutrality which can lead to inaccurate or unrepresentative results. To address this, we propose breaking down the descriptions into individual sentences based on periods, using an emotion classification model to predict labels such as anger, disgust, fear, joy, neutral, sadness, and surprise for each sentence, and then selecting the highest scoring value for each type of emotion, ensuring that the most prominent emotion is accurately reflected and fairly evaluating each sentence independently before compiling the results for each book based on its ISBN.",
   "metadata": {
    "id": "JIIQUq3AifLv"
   }
  },
  {
   "cell_type": "code",
   "source": [
    "books['description'][0].split('.')[0]"
   ],
   "metadata": {
    "colab": {
     "base_uri": "https://localhost:8080/",
     "height": 35
    },
    "id": "vZRzz1z7gAqN",
    "executionInfo": {
     "status": "ok",
     "timestamp": 1753367259806,
     "user_tz": -420,
     "elapsed": 7,
     "user": {
      "displayName": "Minh Trí Nguyễn",
      "userId": "01251723066596770068"
     }
    },
    "outputId": "97751cce-25bb-4cb3-c51d-e649f393798f",
    "ExecuteTime": {
     "end_time": "2025-07-25T04:28:09.792374Z",
     "start_time": "2025-07-25T04:28:09.767983Z"
    }
   },
   "outputs": [
    {
     "data": {
      "text/plain": [
       "'A NOVEL THAT READERS and critics have been eagerly anticipating for over a decade, Gilead is an astonishingly imagined story of remarkable lives'"
      ]
     },
     "execution_count": 9,
     "metadata": {},
     "output_type": "execute_result"
    }
   ],
   "execution_count": 9
  },
  {
   "cell_type": "code",
   "source": [
    "classifier(books['description'][0].split('.')[0])"
   ],
   "metadata": {
    "colab": {
     "base_uri": "https://localhost:8080/"
    },
    "id": "ZN9TjBDoiVAJ",
    "executionInfo": {
     "status": "ok",
     "timestamp": 1753367259945,
     "user_tz": -420,
     "elapsed": 123,
     "user": {
      "displayName": "Minh Trí Nguyễn",
      "userId": "01251723066596770068"
     }
    },
    "outputId": "2e284406-829c-4150-a68e-3010bcc2062c",
    "ExecuteTime": {
     "end_time": "2025-07-25T04:28:10.976668Z",
     "start_time": "2025-07-25T04:28:10.888954Z"
    }
   },
   "outputs": [
    {
     "data": {
      "text/plain": [
       "[[{'label': 'surprise', 'score': 0.7296027541160583},\n",
       "  {'label': 'neutral', 'score': 0.14038576185703278},\n",
       "  {'label': 'fear', 'score': 0.06816209107637405},\n",
       "  {'label': 'joy', 'score': 0.04794240742921829},\n",
       "  {'label': 'anger', 'score': 0.00915635284036398},\n",
       "  {'label': 'disgust', 'score': 0.0026284719351679087},\n",
       "  {'label': 'sadness', 'score': 0.0021221607457846403}]]"
      ]
     },
     "execution_count": 10,
     "metadata": {},
     "output_type": "execute_result"
    }
   ],
   "execution_count": 10
  },
  {
   "cell_type": "code",
   "source": [
    "sequence = books['description'][0].split('.')\n",
    "res = classifier(sequence)"
   ],
   "metadata": {
    "id": "JW52sSX6jnrN",
    "executionInfo": {
     "status": "ok",
     "timestamp": 1753367262285,
     "user_tz": -420,
     "elapsed": 2331,
     "user": {
      "displayName": "Minh Trí Nguyễn",
      "userId": "01251723066596770068"
     }
    },
    "ExecuteTime": {
     "end_time": "2025-07-25T04:28:14.130907Z",
     "start_time": "2025-07-25T04:28:13.564596Z"
    }
   },
   "outputs": [],
   "execution_count": 11
  },
  {
   "cell_type": "code",
   "source": [
    "print(sequence[4])\n",
    "res[4]"
   ],
   "metadata": {
    "colab": {
     "base_uri": "https://localhost:8080/"
    },
    "id": "mMg8X1gNkCt8",
    "executionInfo": {
     "status": "ok",
     "timestamp": 1753367262310,
     "user_tz": -420,
     "elapsed": 21,
     "user": {
      "displayName": "Minh Trí Nguyễn",
      "userId": "01251723066596770068"
     }
    },
    "outputId": "6311ce12-f4dd-40e5-feb6-66fa9a1f894f",
    "ExecuteTime": {
     "end_time": "2025-07-25T04:28:15.244391Z",
     "start_time": "2025-07-25T04:28:15.221199Z"
    }
   },
   "outputs": [
    {
     "name": "stdout",
     "output_type": "stream",
     "text": [
      " He is troubled, too, by his prodigal namesake, Jack (John Ames) Boughton, his best friend’s lost son who returns to Gilead searching for forgiveness and redemption\n"
     ]
    },
    {
     "data": {
      "text/plain": [
       "[{'label': 'sadness', 'score': 0.9671575427055359},\n",
       " {'label': 'neutral', 'score': 0.015104170888662338},\n",
       " {'label': 'disgust', 'score': 0.006480592768639326},\n",
       " {'label': 'fear', 'score': 0.005393994972109795},\n",
       " {'label': 'surprise', 'score': 0.0022869433742016554},\n",
       " {'label': 'anger', 'score': 0.0018428886542096734},\n",
       " {'label': 'joy', 'score': 0.001733880490064621}]"
      ]
     },
     "execution_count": 12,
     "metadata": {},
     "output_type": "execute_result"
    }
   ],
   "execution_count": 12
  },
  {
   "cell_type": "code",
   "source": [
    "sorted(res[0], key=lambda x: x['label'])"
   ],
   "metadata": {
    "colab": {
     "base_uri": "https://localhost:8080/"
    },
    "id": "egW7xF2iIS7m",
    "executionInfo": {
     "status": "ok",
     "timestamp": 1753367262412,
     "user_tz": -420,
     "elapsed": 92,
     "user": {
      "displayName": "Minh Trí Nguyễn",
      "userId": "01251723066596770068"
     }
    },
    "outputId": "32a86dae-3071-45f8-ec37-d62b32adc16d",
    "ExecuteTime": {
     "end_time": "2025-07-25T04:28:17.422037Z",
     "start_time": "2025-07-25T04:28:17.406005Z"
    }
   },
   "outputs": [
    {
     "data": {
      "text/plain": [
       "[{'label': 'anger', 'score': 0.00915635284036398},\n",
       " {'label': 'disgust', 'score': 0.0026284719351679087},\n",
       " {'label': 'fear', 'score': 0.06816209107637405},\n",
       " {'label': 'joy', 'score': 0.04794240742921829},\n",
       " {'label': 'neutral', 'score': 0.14038576185703278},\n",
       " {'label': 'sadness', 'score': 0.0021221607457846403},\n",
       " {'label': 'surprise', 'score': 0.7296027541160583}]"
      ]
     },
     "execution_count": 13,
     "metadata": {},
     "output_type": "execute_result"
    }
   ],
   "execution_count": 13
  },
  {
   "cell_type": "markdown",
   "source": [
    "### **2. Test for 5 or 10 descriptions of the dataset**"
   ],
   "metadata": {
    "id": "iZpIZjBb3akX"
   }
  },
  {
   "cell_type": "code",
   "source": [
    "emotion_labels = ['anger', 'disgust', 'fear', 'joy', 'neutral', 'sadness', 'surprise']\n",
    "\n",
    "# Function to calculate max emotion in each sentence in a description\n",
    "def get_max_emotion_scores(predictions):\n",
    "  emotion_scores = {label: [] for label in emotion_labels}\n",
    "  for pred in predictions:\n",
    "    sorted_predictions = sorted(pred, key=lambda x: x['label'])\n",
    "    for idx, label in enumerate(emotion_labels):\n",
    "      emotion_scores[label].append(sorted_predictions[idx]['score'])\n",
    "    return {label: np.max(score) for label, score in emotion_scores.items()}"
   ],
   "metadata": {
    "id": "6BX7httIpsVd",
    "executionInfo": {
     "status": "ok",
     "timestamp": 1753367384169,
     "user_tz": -420,
     "elapsed": 41,
     "user": {
      "displayName": "Minh Trí Nguyễn",
      "userId": "01251723066596770068"
     }
    }
   },
   "execution_count": 14,
   "outputs": []
  },
  {
   "cell_type": "code",
   "source": [
    "isbn_tmp = []\n",
    "emotion_scores = {label: [] for label in emotion_labels}\n",
    "\n",
    "for i in range(5):\n",
    "  isbn_tmp.append(books['isbn13'][i])\n",
    "  sentences_in_each_descriptions = books['description'][i].split('.')\n",
    "  predictions = classifier(sentences_in_each_descriptions)\n",
    "  max_emotion_scores = get_max_emotion_scores(predictions)\n",
    "  for label in emotion_labels:\n",
    "    emotion_scores[label].append(max_emotion_scores[label])"
   ],
   "metadata": {
    "id": "y0fA6U6DXNb9",
    "executionInfo": {
     "status": "ok",
     "timestamp": 1753367388188,
     "user_tz": -420,
     "elapsed": 2914,
     "user": {
      "displayName": "Minh Trí Nguyễn",
      "userId": "01251723066596770068"
     }
    }
   },
   "execution_count": 15,
   "outputs": []
  },
  {
   "cell_type": "code",
   "source": [
    "emotion_scores"
   ],
   "metadata": {
    "id": "1j47ROYC0p6V",
    "executionInfo": {
     "status": "ok",
     "timestamp": 1753367399934,
     "user_tz": -420,
     "elapsed": 12,
     "user": {
      "displayName": "Minh Trí Nguyễn",
      "userId": "01251723066596770068"
     }
    },
    "outputId": "77931217-4e9f-435b-ed5b-dd9dac22867e",
    "colab": {
     "base_uri": "https://localhost:8080/"
    }
   },
   "execution_count": 16,
   "outputs": [
    {
     "output_type": "execute_result",
     "data": {
      "text/plain": [
       "{'anger': [np.float64(0.009156372398138046),\n",
       "  np.float64(0.005966845899820328),\n",
       "  np.float64(0.04130077362060547),\n",
       "  np.float64(0.016036225482821465),\n",
       "  np.float64(0.013624386861920357)],\n",
       " 'disgust': [np.float64(0.002628477057442069),\n",
       "  np.float64(0.0028870627284049988),\n",
       "  np.float64(0.024568283930420876),\n",
       "  np.float64(0.06069513037800789),\n",
       "  np.float64(0.12224264442920685)],\n",
       " 'fear': [np.float64(0.06816234439611435),\n",
       "  np.float64(0.003809872781857848),\n",
       "  np.float64(0.10406067222356796),\n",
       "  np.float64(0.0016916367458179593),\n",
       "  np.float64(0.09504339098930359)],\n",
       " 'joy': [np.float64(0.047942597419023514),\n",
       "  np.float64(0.7044220566749573),\n",
       "  np.float64(0.7672385573387146),\n",
       "  np.float64(0.16175726056098938),\n",
       "  np.float64(0.008335679769515991)],\n",
       " 'neutral': [np.float64(0.14038586616516113),\n",
       "  np.float64(0.21775951981544495),\n",
       "  np.float64(0.04217583313584328),\n",
       "  np.float64(0.7326849102973938),\n",
       "  np.float64(0.2726137042045593)],\n",
       " 'sadness': [np.float64(0.002122163074091077),\n",
       "  np.float64(0.004508520010858774),\n",
       "  np.float64(0.010859823785722256),\n",
       "  np.float64(0.020988240838050842),\n",
       "  np.float64(0.47588038444519043)],\n",
       " 'surprise': [np.float64(0.7296022176742554),\n",
       "  np.float64(0.06064606085419655),\n",
       "  np.float64(0.009796065278351307),\n",
       "  np.float64(0.006146565545350313),\n",
       "  np.float64(0.01225983165204525)]}"
      ]
     },
     "metadata": {},
     "execution_count": 16
    }
   ]
  },
  {
   "cell_type": "markdown",
   "source": [
    "### **3. Test for the dataset**"
   ],
   "metadata": {
    "id": "6rTYl9wz3163"
   }
  },
  {
   "cell_type": "code",
   "source": [
    "from tqdm import tqdm\n",
    "\n",
    "emotional_labels = ['anger', 'disgust', 'fear', 'joy', 'neutral', 'sadness', 'surprise']\n",
    "emotion_scores_list = {label: [] for label in emotional_labels}\n",
    "isbn_list = []\n",
    "\n",
    "for i in tqdm(range(len(books))):\n",
    "  isbn_list.append(books['isbn13'][i])\n",
    "  sentences = books['description'][i].split('.')\n",
    "  predictions = classifier(sentences)\n",
    "  max_emotion_scores = get_max_emotion_scores(predictions)\n",
    "  for label in emotional_labels:\n",
    "    emotion_scores_list[label].append(max_emotion_scores[label])"
   ],
   "metadata": {
    "colab": {
     "base_uri": "https://localhost:8080/"
    },
    "id": "ZhY9Nc4m3757",
    "executionInfo": {
     "status": "ok",
     "timestamp": 1753370699494,
     "user_tz": -420,
     "elapsed": 2391787,
     "user": {
      "displayName": "Minh Trí Nguyễn",
      "userId": "01251723066596770068"
     }
    },
    "outputId": "3da22592-0c4c-4711-bbf1-dd422df6e49d"
   },
   "execution_count": 17,
   "outputs": [
    {
     "output_type": "stream",
     "name": "stderr",
     "text": [
      "100%|██████████| 5197/5197 [39:51<00:00,  2.17it/s]\n"
     ]
    }
   ]
  },
  {
   "cell_type": "code",
   "source": [
    "df_emotions = pd.DataFrame(emotion_scores_list)\n",
    "df_emotions['isbn13'] = isbn_list\n",
    "df_emotions.head()"
   ],
   "metadata": {
    "colab": {
     "base_uri": "https://localhost:8080/",
     "height": 206
    },
    "id": "tR1KNWus5Tir",
    "executionInfo": {
     "status": "ok",
     "timestamp": 1753370717886,
     "user_tz": -420,
     "elapsed": 112,
     "user": {
      "displayName": "Minh Trí Nguyễn",
      "userId": "01251723066596770068"
     }
    },
    "outputId": "9a3d9a1b-cc75-4079-dffc-986fe8cbe6a4"
   },
   "execution_count": 18,
   "outputs": [
    {
     "output_type": "execute_result",
     "data": {
      "text/plain": [
       "      anger   disgust      fear       joy   neutral   sadness  surprise  \\\n",
       "0  0.009156  0.002628  0.068162  0.047943  0.140386  0.002122  0.729602   \n",
       "1  0.005967  0.002887  0.003810  0.704422  0.217760  0.004509  0.060646   \n",
       "2  0.041301  0.024568  0.104061  0.767239  0.042176  0.010860  0.009796   \n",
       "3  0.016036  0.060695  0.001692  0.161757  0.732685  0.020988  0.006147   \n",
       "4  0.013624  0.122243  0.095043  0.008336  0.272614  0.475880  0.012260   \n",
       "\n",
       "          isbn13  \n",
       "0  9780002005883  \n",
       "1  9780002261982  \n",
       "2  9780006178736  \n",
       "3  9780006280897  \n",
       "4  9780006280934  "
      ],
      "text/html": [
       "\n",
       "  <div id=\"df-7054c97d-3738-4c31-bec4-788e11a9d2c6\" class=\"colab-df-container\">\n",
       "    <div>\n",
       "<style scoped>\n",
       "    .dataframe tbody tr th:only-of-type {\n",
       "        vertical-align: middle;\n",
       "    }\n",
       "\n",
       "    .dataframe tbody tr th {\n",
       "        vertical-align: top;\n",
       "    }\n",
       "\n",
       "    .dataframe thead th {\n",
       "        text-align: right;\n",
       "    }\n",
       "</style>\n",
       "<table border=\"1\" class=\"dataframe\">\n",
       "  <thead>\n",
       "    <tr style=\"text-align: right;\">\n",
       "      <th></th>\n",
       "      <th>anger</th>\n",
       "      <th>disgust</th>\n",
       "      <th>fear</th>\n",
       "      <th>joy</th>\n",
       "      <th>neutral</th>\n",
       "      <th>sadness</th>\n",
       "      <th>surprise</th>\n",
       "      <th>isbn13</th>\n",
       "    </tr>\n",
       "  </thead>\n",
       "  <tbody>\n",
       "    <tr>\n",
       "      <th>0</th>\n",
       "      <td>0.009156</td>\n",
       "      <td>0.002628</td>\n",
       "      <td>0.068162</td>\n",
       "      <td>0.047943</td>\n",
       "      <td>0.140386</td>\n",
       "      <td>0.002122</td>\n",
       "      <td>0.729602</td>\n",
       "      <td>9780002005883</td>\n",
       "    </tr>\n",
       "    <tr>\n",
       "      <th>1</th>\n",
       "      <td>0.005967</td>\n",
       "      <td>0.002887</td>\n",
       "      <td>0.003810</td>\n",
       "      <td>0.704422</td>\n",
       "      <td>0.217760</td>\n",
       "      <td>0.004509</td>\n",
       "      <td>0.060646</td>\n",
       "      <td>9780002261982</td>\n",
       "    </tr>\n",
       "    <tr>\n",
       "      <th>2</th>\n",
       "      <td>0.041301</td>\n",
       "      <td>0.024568</td>\n",
       "      <td>0.104061</td>\n",
       "      <td>0.767239</td>\n",
       "      <td>0.042176</td>\n",
       "      <td>0.010860</td>\n",
       "      <td>0.009796</td>\n",
       "      <td>9780006178736</td>\n",
       "    </tr>\n",
       "    <tr>\n",
       "      <th>3</th>\n",
       "      <td>0.016036</td>\n",
       "      <td>0.060695</td>\n",
       "      <td>0.001692</td>\n",
       "      <td>0.161757</td>\n",
       "      <td>0.732685</td>\n",
       "      <td>0.020988</td>\n",
       "      <td>0.006147</td>\n",
       "      <td>9780006280897</td>\n",
       "    </tr>\n",
       "    <tr>\n",
       "      <th>4</th>\n",
       "      <td>0.013624</td>\n",
       "      <td>0.122243</td>\n",
       "      <td>0.095043</td>\n",
       "      <td>0.008336</td>\n",
       "      <td>0.272614</td>\n",
       "      <td>0.475880</td>\n",
       "      <td>0.012260</td>\n",
       "      <td>9780006280934</td>\n",
       "    </tr>\n",
       "  </tbody>\n",
       "</table>\n",
       "</div>\n",
       "    <div class=\"colab-df-buttons\">\n",
       "\n",
       "  <div class=\"colab-df-container\">\n",
       "    <button class=\"colab-df-convert\" onclick=\"convertToInteractive('df-7054c97d-3738-4c31-bec4-788e11a9d2c6')\"\n",
       "            title=\"Convert this dataframe to an interactive table.\"\n",
       "            style=\"display:none;\">\n",
       "\n",
       "  <svg xmlns=\"http://www.w3.org/2000/svg\" height=\"24px\" viewBox=\"0 -960 960 960\">\n",
       "    <path d=\"M120-120v-720h720v720H120Zm60-500h600v-160H180v160Zm220 220h160v-160H400v160Zm0 220h160v-160H400v160ZM180-400h160v-160H180v160Zm440 0h160v-160H620v160ZM180-180h160v-160H180v160Zm440 0h160v-160H620v160Z\"/>\n",
       "  </svg>\n",
       "    </button>\n",
       "\n",
       "  <style>\n",
       "    .colab-df-container {\n",
       "      display:flex;\n",
       "      gap: 12px;\n",
       "    }\n",
       "\n",
       "    .colab-df-convert {\n",
       "      background-color: #E8F0FE;\n",
       "      border: none;\n",
       "      border-radius: 50%;\n",
       "      cursor: pointer;\n",
       "      display: none;\n",
       "      fill: #1967D2;\n",
       "      height: 32px;\n",
       "      padding: 0 0 0 0;\n",
       "      width: 32px;\n",
       "    }\n",
       "\n",
       "    .colab-df-convert:hover {\n",
       "      background-color: #E2EBFA;\n",
       "      box-shadow: 0px 1px 2px rgba(60, 64, 67, 0.3), 0px 1px 3px 1px rgba(60, 64, 67, 0.15);\n",
       "      fill: #174EA6;\n",
       "    }\n",
       "\n",
       "    .colab-df-buttons div {\n",
       "      margin-bottom: 4px;\n",
       "    }\n",
       "\n",
       "    [theme=dark] .colab-df-convert {\n",
       "      background-color: #3B4455;\n",
       "      fill: #D2E3FC;\n",
       "    }\n",
       "\n",
       "    [theme=dark] .colab-df-convert:hover {\n",
       "      background-color: #434B5C;\n",
       "      box-shadow: 0px 1px 3px 1px rgba(0, 0, 0, 0.15);\n",
       "      filter: drop-shadow(0px 1px 2px rgba(0, 0, 0, 0.3));\n",
       "      fill: #FFFFFF;\n",
       "    }\n",
       "  </style>\n",
       "\n",
       "    <script>\n",
       "      const buttonEl =\n",
       "        document.querySelector('#df-7054c97d-3738-4c31-bec4-788e11a9d2c6 button.colab-df-convert');\n",
       "      buttonEl.style.display =\n",
       "        google.colab.kernel.accessAllowed ? 'block' : 'none';\n",
       "\n",
       "      async function convertToInteractive(key) {\n",
       "        const element = document.querySelector('#df-7054c97d-3738-4c31-bec4-788e11a9d2c6');\n",
       "        const dataTable =\n",
       "          await google.colab.kernel.invokeFunction('convertToInteractive',\n",
       "                                                    [key], {});\n",
       "        if (!dataTable) return;\n",
       "\n",
       "        const docLinkHtml = 'Like what you see? Visit the ' +\n",
       "          '<a target=\"_blank\" href=https://colab.research.google.com/notebooks/data_table.ipynb>data table notebook</a>'\n",
       "          + ' to learn more about interactive tables.';\n",
       "        element.innerHTML = '';\n",
       "        dataTable['output_type'] = 'display_data';\n",
       "        await google.colab.output.renderOutput(dataTable, element);\n",
       "        const docLink = document.createElement('div');\n",
       "        docLink.innerHTML = docLinkHtml;\n",
       "        element.appendChild(docLink);\n",
       "      }\n",
       "    </script>\n",
       "  </div>\n",
       "\n",
       "\n",
       "    <div id=\"df-54b486f9-1005-4550-ae7f-34ed191838e9\">\n",
       "      <button class=\"colab-df-quickchart\" onclick=\"quickchart('df-54b486f9-1005-4550-ae7f-34ed191838e9')\"\n",
       "                title=\"Suggest charts\"\n",
       "                style=\"display:none;\">\n",
       "\n",
       "<svg xmlns=\"http://www.w3.org/2000/svg\" height=\"24px\"viewBox=\"0 0 24 24\"\n",
       "     width=\"24px\">\n",
       "    <g>\n",
       "        <path d=\"M19 3H5c-1.1 0-2 .9-2 2v14c0 1.1.9 2 2 2h14c1.1 0 2-.9 2-2V5c0-1.1-.9-2-2-2zM9 17H7v-7h2v7zm4 0h-2V7h2v10zm4 0h-2v-4h2v4z\"/>\n",
       "    </g>\n",
       "</svg>\n",
       "      </button>\n",
       "\n",
       "<style>\n",
       "  .colab-df-quickchart {\n",
       "      --bg-color: #E8F0FE;\n",
       "      --fill-color: #1967D2;\n",
       "      --hover-bg-color: #E2EBFA;\n",
       "      --hover-fill-color: #174EA6;\n",
       "      --disabled-fill-color: #AAA;\n",
       "      --disabled-bg-color: #DDD;\n",
       "  }\n",
       "\n",
       "  [theme=dark] .colab-df-quickchart {\n",
       "      --bg-color: #3B4455;\n",
       "      --fill-color: #D2E3FC;\n",
       "      --hover-bg-color: #434B5C;\n",
       "      --hover-fill-color: #FFFFFF;\n",
       "      --disabled-bg-color: #3B4455;\n",
       "      --disabled-fill-color: #666;\n",
       "  }\n",
       "\n",
       "  .colab-df-quickchart {\n",
       "    background-color: var(--bg-color);\n",
       "    border: none;\n",
       "    border-radius: 50%;\n",
       "    cursor: pointer;\n",
       "    display: none;\n",
       "    fill: var(--fill-color);\n",
       "    height: 32px;\n",
       "    padding: 0;\n",
       "    width: 32px;\n",
       "  }\n",
       "\n",
       "  .colab-df-quickchart:hover {\n",
       "    background-color: var(--hover-bg-color);\n",
       "    box-shadow: 0 1px 2px rgba(60, 64, 67, 0.3), 0 1px 3px 1px rgba(60, 64, 67, 0.15);\n",
       "    fill: var(--button-hover-fill-color);\n",
       "  }\n",
       "\n",
       "  .colab-df-quickchart-complete:disabled,\n",
       "  .colab-df-quickchart-complete:disabled:hover {\n",
       "    background-color: var(--disabled-bg-color);\n",
       "    fill: var(--disabled-fill-color);\n",
       "    box-shadow: none;\n",
       "  }\n",
       "\n",
       "  .colab-df-spinner {\n",
       "    border: 2px solid var(--fill-color);\n",
       "    border-color: transparent;\n",
       "    border-bottom-color: var(--fill-color);\n",
       "    animation:\n",
       "      spin 1s steps(1) infinite;\n",
       "  }\n",
       "\n",
       "  @keyframes spin {\n",
       "    0% {\n",
       "      border-color: transparent;\n",
       "      border-bottom-color: var(--fill-color);\n",
       "      border-left-color: var(--fill-color);\n",
       "    }\n",
       "    20% {\n",
       "      border-color: transparent;\n",
       "      border-left-color: var(--fill-color);\n",
       "      border-top-color: var(--fill-color);\n",
       "    }\n",
       "    30% {\n",
       "      border-color: transparent;\n",
       "      border-left-color: var(--fill-color);\n",
       "      border-top-color: var(--fill-color);\n",
       "      border-right-color: var(--fill-color);\n",
       "    }\n",
       "    40% {\n",
       "      border-color: transparent;\n",
       "      border-right-color: var(--fill-color);\n",
       "      border-top-color: var(--fill-color);\n",
       "    }\n",
       "    60% {\n",
       "      border-color: transparent;\n",
       "      border-right-color: var(--fill-color);\n",
       "    }\n",
       "    80% {\n",
       "      border-color: transparent;\n",
       "      border-right-color: var(--fill-color);\n",
       "      border-bottom-color: var(--fill-color);\n",
       "    }\n",
       "    90% {\n",
       "      border-color: transparent;\n",
       "      border-bottom-color: var(--fill-color);\n",
       "    }\n",
       "  }\n",
       "</style>\n",
       "\n",
       "      <script>\n",
       "        async function quickchart(key) {\n",
       "          const quickchartButtonEl =\n",
       "            document.querySelector('#' + key + ' button');\n",
       "          quickchartButtonEl.disabled = true;  // To prevent multiple clicks.\n",
       "          quickchartButtonEl.classList.add('colab-df-spinner');\n",
       "          try {\n",
       "            const charts = await google.colab.kernel.invokeFunction(\n",
       "                'suggestCharts', [key], {});\n",
       "          } catch (error) {\n",
       "            console.error('Error during call to suggestCharts:', error);\n",
       "          }\n",
       "          quickchartButtonEl.classList.remove('colab-df-spinner');\n",
       "          quickchartButtonEl.classList.add('colab-df-quickchart-complete');\n",
       "        }\n",
       "        (() => {\n",
       "          let quickchartButtonEl =\n",
       "            document.querySelector('#df-54b486f9-1005-4550-ae7f-34ed191838e9 button');\n",
       "          quickchartButtonEl.style.display =\n",
       "            google.colab.kernel.accessAllowed ? 'block' : 'none';\n",
       "        })();\n",
       "      </script>\n",
       "    </div>\n",
       "\n",
       "    </div>\n",
       "  </div>\n"
      ],
      "application/vnd.google.colaboratory.intrinsic+json": {
       "type": "dataframe",
       "variable_name": "df_emotions",
       "summary": "{\n  \"name\": \"df_emotions\",\n  \"rows\": 5197,\n  \"fields\": [\n    {\n      \"column\": \"anger\",\n      \"properties\": {\n        \"dtype\": \"number\",\n        \"std\": 0.15837634668174505,\n        \"min\": 0.0006058257422409952,\n        \"max\": 0.9895823001861572,\n        \"num_unique_values\": 5098,\n        \"samples\": [\n          0.006165059749037027,\n          0.13743674755096436,\n          0.1040206328034401\n        ],\n        \"semantic_type\": \"\",\n        \"description\": \"\"\n      }\n    },\n    {\n      \"column\": \"disgust\",\n      \"properties\": {\n        \"dtype\": \"number\",\n        \"std\": 0.17031108286628957,\n        \"min\": 0.0004161243268754333,\n        \"max\": 0.9894165396690369,\n        \"num_unique_values\": 5097,\n        \"samples\": [\n          0.009495371952652931,\n          0.004060217645019293,\n          0.07099881768226624\n        ],\n        \"semantic_type\": \"\",\n        \"description\": \"\"\n      }\n    },\n    {\n      \"column\": \"fear\",\n      \"properties\": {\n        \"dtype\": \"number\",\n        \"std\": 0.28367231795369074,\n        \"min\": 0.00024588507949374616,\n        \"max\": 0.9933798313140869,\n        \"num_unique_values\": 5098,\n        \"samples\": [\n          0.01928512193262577,\n          0.587372362613678,\n          0.20327918231487274\n        ],\n        \"semantic_type\": \"\",\n        \"description\": \"\"\n      }\n    },\n    {\n      \"column\": \"joy\",\n      \"properties\": {\n        \"dtype\": \"number\",\n        \"std\": 0.25012003567608254,\n        \"min\": 0.0002941317216027528,\n        \"max\": 0.9898808598518372,\n        \"num_unique_values\": 5098,\n        \"samples\": [\n          0.035413119941949844,\n          0.00746232969686389,\n          0.0029020006768405437\n        ],\n        \"semantic_type\": \"\",\n        \"description\": \"\"\n      }\n    },\n    {\n      \"column\": \"neutral\",\n      \"properties\": {\n        \"dtype\": \"number\",\n        \"std\": 0.33498980322232097,\n        \"min\": 0.0007277622353285551,\n        \"max\": 0.9736660122871399,\n        \"num_unique_values\": 5098,\n        \"samples\": [\n          0.8498781323432922,\n          0.19802391529083252,\n          0.020665397867560387\n        ],\n        \"semantic_type\": \"\",\n        \"description\": \"\"\n      }\n    },\n    {\n      \"column\": \"sadness\",\n      \"properties\": {\n        \"dtype\": \"number\",\n        \"std\": 0.19615079159450702,\n        \"min\": 0.0008446312276646495,\n        \"max\": 0.9891327023506165,\n        \"num_unique_values\": 5098,\n        \"samples\": [\n          0.044556085020303726,\n          0.02188338153064251,\n          0.5734348893165588\n        ],\n        \"semantic_type\": \"\",\n        \"description\": \"\"\n      }\n    },\n    {\n      \"column\": \"surprise\",\n      \"properties\": {\n        \"dtype\": \"number\",\n        \"std\": 0.12114188061399186,\n        \"min\": 0.0003611045249272138,\n        \"max\": 0.9822866320610046,\n        \"num_unique_values\": 5098,\n        \"samples\": [\n          0.0352071151137352,\n          0.04376104101538658,\n          0.02469913847744465\n        ],\n        \"semantic_type\": \"\",\n        \"description\": \"\"\n      }\n    },\n    {\n      \"column\": \"isbn13\",\n      \"properties\": {\n        \"dtype\": \"number\",\n        \"std\": 595105329,\n        \"min\": 9780002005883,\n        \"max\": 9789027712059,\n        \"num_unique_values\": 5197,\n        \"samples\": [\n          9780313309335,\n          9780020442608,\n          9780719071157\n        ],\n        \"semantic_type\": \"\",\n        \"description\": \"\"\n      }\n    }\n  ]\n}"
      }
     },
     "metadata": {},
     "execution_count": 18
    }
   ]
  },
  {
   "cell_type": "code",
   "source": [
    "books = pd.merge(books, df_emotions, on='isbn13')"
   ],
   "metadata": {
    "id": "_-j-QjD7ClBC",
    "executionInfo": {
     "status": "ok",
     "timestamp": 1753370800307,
     "user_tz": -420,
     "elapsed": 50,
     "user": {
      "displayName": "Minh Trí Nguyễn",
      "userId": "01251723066596770068"
     }
    }
   },
   "execution_count": 19,
   "outputs": []
  },
  {
   "cell_type": "code",
   "source": [
    "books.sample(5)"
   ],
   "metadata": {
    "colab": {
     "base_uri": "https://localhost:8080/",
     "height": 568
    },
    "id": "F3udziFyCzWC",
    "executionInfo": {
     "status": "ok",
     "timestamp": 1753370807457,
     "user_tz": -420,
     "elapsed": 73,
     "user": {
      "displayName": "Minh Trí Nguyễn",
      "userId": "01251723066596770068"
     }
    },
    "outputId": "51ff20eb-3ab8-4f03-954d-e934d85882a2"
   },
   "execution_count": 20,
   "outputs": [
    {
     "output_type": "execute_result",
     "data": {
      "text/plain": [
       "             isbn13      isbn10                     title          authors  \\\n",
       "5040  9781857231359  185723135X            Use of Weapons       Iain Banks   \n",
       "1602  9780373274611  0373274610  The Bluest Eyes in Texas  Marilyn Pappano   \n",
       "59    9780007151240  0007151241            The Family Way     Tony Parsons   \n",
       "40    9780007120819  0007120818              The Big Four  Agatha Christie   \n",
       "1391  9780330351690  0330351699             Into the Wild     Jon Krakauer   \n",
       "\n",
       "                         categories  \\\n",
       "5040                Science fiction   \n",
       "1602                        Fiction   \n",
       "59                       Parenthood   \n",
       "40    Detective and mystery stories   \n",
       "1391                     True Crime   \n",
       "\n",
       "                                              thumbnail  \\\n",
       "5040                                                NaN   \n",
       "1602  http://books.google.com/books/content?id=K9nct...   \n",
       "59    http://books.google.com/books/content?id=dJEIx...   \n",
       "40    http://books.google.com/books/content?id=wcOQU...   \n",
       "1391  http://books.google.com/books/content?id=X7M1D...   \n",
       "\n",
       "                                            description  published_year  \\\n",
       "5040  The man known as Cheradenine Zakalwe was one o...          1992.0   \n",
       "1602  Army hero Logan Marshall would avenge his fost...          2005.0   \n",
       "59    It should be the most natural thing in the wor...          2005.0   \n",
       "40    A ruthless international cartel seeks world do...          2002.0   \n",
       "1391  Using the true story of a young man, who in 19...          1998.0   \n",
       "\n",
       "      average_rating  num_pages  ...        title_and_subtitle  \\\n",
       "5040            4.19      411.0  ...            Use of Weapons   \n",
       "1602            3.67      249.0  ...  The Bluest Eyes in Texas   \n",
       "59              3.51      400.0  ...            The Family Way   \n",
       "40              3.59      272.0  ...              The Big Four   \n",
       "1391            3.97      206.0  ...             Into the Wild   \n",
       "\n",
       "                                     tagged_description simple_categories  \\\n",
       "5040  9781857231359 The man known as Cheradenine Zak...        Nonfiction   \n",
       "1602  9780373274611 Army hero Logan Marshall would a...           Fiction   \n",
       "59    9780007151240 It should be the most natural th...           Fiction   \n",
       "40    9780007120819 A ruthless international cartel ...        Nonfiction   \n",
       "1391  9780330351690 Using the true story of a young ...        Nonfiction   \n",
       "\n",
       "         anger   disgust      fear       joy   neutral   sadness  surprise  \n",
       "5040  0.044430  0.870222  0.011635  0.004855  0.056623  0.007436  0.004800  \n",
       "1602  0.932244  0.030714  0.001491  0.002501  0.022231  0.009989  0.000830  \n",
       "59    0.079929  0.037985  0.016266  0.132576  0.525620  0.018228  0.189396  \n",
       "40    0.563667  0.157762  0.039791  0.008598  0.204828  0.014475  0.010879  \n",
       "1391  0.011372  0.437456  0.039939  0.003498  0.184157  0.312138  0.011439  \n",
       "\n",
       "[5 rows x 21 columns]"
      ],
      "text/html": [
       "\n",
       "  <div id=\"df-1c2ae07e-6624-43c6-889d-86d9f5fa617c\" class=\"colab-df-container\">\n",
       "    <div>\n",
       "<style scoped>\n",
       "    .dataframe tbody tr th:only-of-type {\n",
       "        vertical-align: middle;\n",
       "    }\n",
       "\n",
       "    .dataframe tbody tr th {\n",
       "        vertical-align: top;\n",
       "    }\n",
       "\n",
       "    .dataframe thead th {\n",
       "        text-align: right;\n",
       "    }\n",
       "</style>\n",
       "<table border=\"1\" class=\"dataframe\">\n",
       "  <thead>\n",
       "    <tr style=\"text-align: right;\">\n",
       "      <th></th>\n",
       "      <th>isbn13</th>\n",
       "      <th>isbn10</th>\n",
       "      <th>title</th>\n",
       "      <th>authors</th>\n",
       "      <th>categories</th>\n",
       "      <th>thumbnail</th>\n",
       "      <th>description</th>\n",
       "      <th>published_year</th>\n",
       "      <th>average_rating</th>\n",
       "      <th>num_pages</th>\n",
       "      <th>...</th>\n",
       "      <th>title_and_subtitle</th>\n",
       "      <th>tagged_description</th>\n",
       "      <th>simple_categories</th>\n",
       "      <th>anger</th>\n",
       "      <th>disgust</th>\n",
       "      <th>fear</th>\n",
       "      <th>joy</th>\n",
       "      <th>neutral</th>\n",
       "      <th>sadness</th>\n",
       "      <th>surprise</th>\n",
       "    </tr>\n",
       "  </thead>\n",
       "  <tbody>\n",
       "    <tr>\n",
       "      <th>5040</th>\n",
       "      <td>9781857231359</td>\n",
       "      <td>185723135X</td>\n",
       "      <td>Use of Weapons</td>\n",
       "      <td>Iain Banks</td>\n",
       "      <td>Science fiction</td>\n",
       "      <td>NaN</td>\n",
       "      <td>The man known as Cheradenine Zakalwe was one o...</td>\n",
       "      <td>1992.0</td>\n",
       "      <td>4.19</td>\n",
       "      <td>411.0</td>\n",
       "      <td>...</td>\n",
       "      <td>Use of Weapons</td>\n",
       "      <td>9781857231359 The man known as Cheradenine Zak...</td>\n",
       "      <td>Nonfiction</td>\n",
       "      <td>0.044430</td>\n",
       "      <td>0.870222</td>\n",
       "      <td>0.011635</td>\n",
       "      <td>0.004855</td>\n",
       "      <td>0.056623</td>\n",
       "      <td>0.007436</td>\n",
       "      <td>0.004800</td>\n",
       "    </tr>\n",
       "    <tr>\n",
       "      <th>1602</th>\n",
       "      <td>9780373274611</td>\n",
       "      <td>0373274610</td>\n",
       "      <td>The Bluest Eyes in Texas</td>\n",
       "      <td>Marilyn Pappano</td>\n",
       "      <td>Fiction</td>\n",
       "      <td>http://books.google.com/books/content?id=K9nct...</td>\n",
       "      <td>Army hero Logan Marshall would avenge his fost...</td>\n",
       "      <td>2005.0</td>\n",
       "      <td>3.67</td>\n",
       "      <td>249.0</td>\n",
       "      <td>...</td>\n",
       "      <td>The Bluest Eyes in Texas</td>\n",
       "      <td>9780373274611 Army hero Logan Marshall would a...</td>\n",
       "      <td>Fiction</td>\n",
       "      <td>0.932244</td>\n",
       "      <td>0.030714</td>\n",
       "      <td>0.001491</td>\n",
       "      <td>0.002501</td>\n",
       "      <td>0.022231</td>\n",
       "      <td>0.009989</td>\n",
       "      <td>0.000830</td>\n",
       "    </tr>\n",
       "    <tr>\n",
       "      <th>59</th>\n",
       "      <td>9780007151240</td>\n",
       "      <td>0007151241</td>\n",
       "      <td>The Family Way</td>\n",
       "      <td>Tony Parsons</td>\n",
       "      <td>Parenthood</td>\n",
       "      <td>http://books.google.com/books/content?id=dJEIx...</td>\n",
       "      <td>It should be the most natural thing in the wor...</td>\n",
       "      <td>2005.0</td>\n",
       "      <td>3.51</td>\n",
       "      <td>400.0</td>\n",
       "      <td>...</td>\n",
       "      <td>The Family Way</td>\n",
       "      <td>9780007151240 It should be the most natural th...</td>\n",
       "      <td>Fiction</td>\n",
       "      <td>0.079929</td>\n",
       "      <td>0.037985</td>\n",
       "      <td>0.016266</td>\n",
       "      <td>0.132576</td>\n",
       "      <td>0.525620</td>\n",
       "      <td>0.018228</td>\n",
       "      <td>0.189396</td>\n",
       "    </tr>\n",
       "    <tr>\n",
       "      <th>40</th>\n",
       "      <td>9780007120819</td>\n",
       "      <td>0007120818</td>\n",
       "      <td>The Big Four</td>\n",
       "      <td>Agatha Christie</td>\n",
       "      <td>Detective and mystery stories</td>\n",
       "      <td>http://books.google.com/books/content?id=wcOQU...</td>\n",
       "      <td>A ruthless international cartel seeks world do...</td>\n",
       "      <td>2002.0</td>\n",
       "      <td>3.59</td>\n",
       "      <td>272.0</td>\n",
       "      <td>...</td>\n",
       "      <td>The Big Four</td>\n",
       "      <td>9780007120819 A ruthless international cartel ...</td>\n",
       "      <td>Nonfiction</td>\n",
       "      <td>0.563667</td>\n",
       "      <td>0.157762</td>\n",
       "      <td>0.039791</td>\n",
       "      <td>0.008598</td>\n",
       "      <td>0.204828</td>\n",
       "      <td>0.014475</td>\n",
       "      <td>0.010879</td>\n",
       "    </tr>\n",
       "    <tr>\n",
       "      <th>1391</th>\n",
       "      <td>9780330351690</td>\n",
       "      <td>0330351699</td>\n",
       "      <td>Into the Wild</td>\n",
       "      <td>Jon Krakauer</td>\n",
       "      <td>True Crime</td>\n",
       "      <td>http://books.google.com/books/content?id=X7M1D...</td>\n",
       "      <td>Using the true story of a young man, who in 19...</td>\n",
       "      <td>1998.0</td>\n",
       "      <td>3.97</td>\n",
       "      <td>206.0</td>\n",
       "      <td>...</td>\n",
       "      <td>Into the Wild</td>\n",
       "      <td>9780330351690 Using the true story of a young ...</td>\n",
       "      <td>Nonfiction</td>\n",
       "      <td>0.011372</td>\n",
       "      <td>0.437456</td>\n",
       "      <td>0.039939</td>\n",
       "      <td>0.003498</td>\n",
       "      <td>0.184157</td>\n",
       "      <td>0.312138</td>\n",
       "      <td>0.011439</td>\n",
       "    </tr>\n",
       "  </tbody>\n",
       "</table>\n",
       "<p>5 rows × 21 columns</p>\n",
       "</div>\n",
       "    <div class=\"colab-df-buttons\">\n",
       "\n",
       "  <div class=\"colab-df-container\">\n",
       "    <button class=\"colab-df-convert\" onclick=\"convertToInteractive('df-1c2ae07e-6624-43c6-889d-86d9f5fa617c')\"\n",
       "            title=\"Convert this dataframe to an interactive table.\"\n",
       "            style=\"display:none;\">\n",
       "\n",
       "  <svg xmlns=\"http://www.w3.org/2000/svg\" height=\"24px\" viewBox=\"0 -960 960 960\">\n",
       "    <path d=\"M120-120v-720h720v720H120Zm60-500h600v-160H180v160Zm220 220h160v-160H400v160Zm0 220h160v-160H400v160ZM180-400h160v-160H180v160Zm440 0h160v-160H620v160ZM180-180h160v-160H180v160Zm440 0h160v-160H620v160Z\"/>\n",
       "  </svg>\n",
       "    </button>\n",
       "\n",
       "  <style>\n",
       "    .colab-df-container {\n",
       "      display:flex;\n",
       "      gap: 12px;\n",
       "    }\n",
       "\n",
       "    .colab-df-convert {\n",
       "      background-color: #E8F0FE;\n",
       "      border: none;\n",
       "      border-radius: 50%;\n",
       "      cursor: pointer;\n",
       "      display: none;\n",
       "      fill: #1967D2;\n",
       "      height: 32px;\n",
       "      padding: 0 0 0 0;\n",
       "      width: 32px;\n",
       "    }\n",
       "\n",
       "    .colab-df-convert:hover {\n",
       "      background-color: #E2EBFA;\n",
       "      box-shadow: 0px 1px 2px rgba(60, 64, 67, 0.3), 0px 1px 3px 1px rgba(60, 64, 67, 0.15);\n",
       "      fill: #174EA6;\n",
       "    }\n",
       "\n",
       "    .colab-df-buttons div {\n",
       "      margin-bottom: 4px;\n",
       "    }\n",
       "\n",
       "    [theme=dark] .colab-df-convert {\n",
       "      background-color: #3B4455;\n",
       "      fill: #D2E3FC;\n",
       "    }\n",
       "\n",
       "    [theme=dark] .colab-df-convert:hover {\n",
       "      background-color: #434B5C;\n",
       "      box-shadow: 0px 1px 3px 1px rgba(0, 0, 0, 0.15);\n",
       "      filter: drop-shadow(0px 1px 2px rgba(0, 0, 0, 0.3));\n",
       "      fill: #FFFFFF;\n",
       "    }\n",
       "  </style>\n",
       "\n",
       "    <script>\n",
       "      const buttonEl =\n",
       "        document.querySelector('#df-1c2ae07e-6624-43c6-889d-86d9f5fa617c button.colab-df-convert');\n",
       "      buttonEl.style.display =\n",
       "        google.colab.kernel.accessAllowed ? 'block' : 'none';\n",
       "\n",
       "      async function convertToInteractive(key) {\n",
       "        const element = document.querySelector('#df-1c2ae07e-6624-43c6-889d-86d9f5fa617c');\n",
       "        const dataTable =\n",
       "          await google.colab.kernel.invokeFunction('convertToInteractive',\n",
       "                                                    [key], {});\n",
       "        if (!dataTable) return;\n",
       "\n",
       "        const docLinkHtml = 'Like what you see? Visit the ' +\n",
       "          '<a target=\"_blank\" href=https://colab.research.google.com/notebooks/data_table.ipynb>data table notebook</a>'\n",
       "          + ' to learn more about interactive tables.';\n",
       "        element.innerHTML = '';\n",
       "        dataTable['output_type'] = 'display_data';\n",
       "        await google.colab.output.renderOutput(dataTable, element);\n",
       "        const docLink = document.createElement('div');\n",
       "        docLink.innerHTML = docLinkHtml;\n",
       "        element.appendChild(docLink);\n",
       "      }\n",
       "    </script>\n",
       "  </div>\n",
       "\n",
       "\n",
       "    <div id=\"df-5b28c196-d3df-4370-8508-c8f2d65d96c5\">\n",
       "      <button class=\"colab-df-quickchart\" onclick=\"quickchart('df-5b28c196-d3df-4370-8508-c8f2d65d96c5')\"\n",
       "                title=\"Suggest charts\"\n",
       "                style=\"display:none;\">\n",
       "\n",
       "<svg xmlns=\"http://www.w3.org/2000/svg\" height=\"24px\"viewBox=\"0 0 24 24\"\n",
       "     width=\"24px\">\n",
       "    <g>\n",
       "        <path d=\"M19 3H5c-1.1 0-2 .9-2 2v14c0 1.1.9 2 2 2h14c1.1 0 2-.9 2-2V5c0-1.1-.9-2-2-2zM9 17H7v-7h2v7zm4 0h-2V7h2v10zm4 0h-2v-4h2v4z\"/>\n",
       "    </g>\n",
       "</svg>\n",
       "      </button>\n",
       "\n",
       "<style>\n",
       "  .colab-df-quickchart {\n",
       "      --bg-color: #E8F0FE;\n",
       "      --fill-color: #1967D2;\n",
       "      --hover-bg-color: #E2EBFA;\n",
       "      --hover-fill-color: #174EA6;\n",
       "      --disabled-fill-color: #AAA;\n",
       "      --disabled-bg-color: #DDD;\n",
       "  }\n",
       "\n",
       "  [theme=dark] .colab-df-quickchart {\n",
       "      --bg-color: #3B4455;\n",
       "      --fill-color: #D2E3FC;\n",
       "      --hover-bg-color: #434B5C;\n",
       "      --hover-fill-color: #FFFFFF;\n",
       "      --disabled-bg-color: #3B4455;\n",
       "      --disabled-fill-color: #666;\n",
       "  }\n",
       "\n",
       "  .colab-df-quickchart {\n",
       "    background-color: var(--bg-color);\n",
       "    border: none;\n",
       "    border-radius: 50%;\n",
       "    cursor: pointer;\n",
       "    display: none;\n",
       "    fill: var(--fill-color);\n",
       "    height: 32px;\n",
       "    padding: 0;\n",
       "    width: 32px;\n",
       "  }\n",
       "\n",
       "  .colab-df-quickchart:hover {\n",
       "    background-color: var(--hover-bg-color);\n",
       "    box-shadow: 0 1px 2px rgba(60, 64, 67, 0.3), 0 1px 3px 1px rgba(60, 64, 67, 0.15);\n",
       "    fill: var(--button-hover-fill-color);\n",
       "  }\n",
       "\n",
       "  .colab-df-quickchart-complete:disabled,\n",
       "  .colab-df-quickchart-complete:disabled:hover {\n",
       "    background-color: var(--disabled-bg-color);\n",
       "    fill: var(--disabled-fill-color);\n",
       "    box-shadow: none;\n",
       "  }\n",
       "\n",
       "  .colab-df-spinner {\n",
       "    border: 2px solid var(--fill-color);\n",
       "    border-color: transparent;\n",
       "    border-bottom-color: var(--fill-color);\n",
       "    animation:\n",
       "      spin 1s steps(1) infinite;\n",
       "  }\n",
       "\n",
       "  @keyframes spin {\n",
       "    0% {\n",
       "      border-color: transparent;\n",
       "      border-bottom-color: var(--fill-color);\n",
       "      border-left-color: var(--fill-color);\n",
       "    }\n",
       "    20% {\n",
       "      border-color: transparent;\n",
       "      border-left-color: var(--fill-color);\n",
       "      border-top-color: var(--fill-color);\n",
       "    }\n",
       "    30% {\n",
       "      border-color: transparent;\n",
       "      border-left-color: var(--fill-color);\n",
       "      border-top-color: var(--fill-color);\n",
       "      border-right-color: var(--fill-color);\n",
       "    }\n",
       "    40% {\n",
       "      border-color: transparent;\n",
       "      border-right-color: var(--fill-color);\n",
       "      border-top-color: var(--fill-color);\n",
       "    }\n",
       "    60% {\n",
       "      border-color: transparent;\n",
       "      border-right-color: var(--fill-color);\n",
       "    }\n",
       "    80% {\n",
       "      border-color: transparent;\n",
       "      border-right-color: var(--fill-color);\n",
       "      border-bottom-color: var(--fill-color);\n",
       "    }\n",
       "    90% {\n",
       "      border-color: transparent;\n",
       "      border-bottom-color: var(--fill-color);\n",
       "    }\n",
       "  }\n",
       "</style>\n",
       "\n",
       "      <script>\n",
       "        async function quickchart(key) {\n",
       "          const quickchartButtonEl =\n",
       "            document.querySelector('#' + key + ' button');\n",
       "          quickchartButtonEl.disabled = true;  // To prevent multiple clicks.\n",
       "          quickchartButtonEl.classList.add('colab-df-spinner');\n",
       "          try {\n",
       "            const charts = await google.colab.kernel.invokeFunction(\n",
       "                'suggestCharts', [key], {});\n",
       "          } catch (error) {\n",
       "            console.error('Error during call to suggestCharts:', error);\n",
       "          }\n",
       "          quickchartButtonEl.classList.remove('colab-df-spinner');\n",
       "          quickchartButtonEl.classList.add('colab-df-quickchart-complete');\n",
       "        }\n",
       "        (() => {\n",
       "          let quickchartButtonEl =\n",
       "            document.querySelector('#df-5b28c196-d3df-4370-8508-c8f2d65d96c5 button');\n",
       "          quickchartButtonEl.style.display =\n",
       "            google.colab.kernel.accessAllowed ? 'block' : 'none';\n",
       "        })();\n",
       "      </script>\n",
       "    </div>\n",
       "\n",
       "    </div>\n",
       "  </div>\n"
      ],
      "application/vnd.google.colaboratory.intrinsic+json": {
       "type": "dataframe"
      }
     },
     "metadata": {},
     "execution_count": 20
    }
   ]
  },
  {
   "cell_type": "code",
   "source": "books.to_csv(\"D://Workspace//LLM//Book Recommendation//dataset//books_with_emotions.csv\", index=False)",
   "metadata": {
    "id": "cvti0I4iC4ve",
    "executionInfo": {
     "status": "ok",
     "timestamp": 1753370888931,
     "user_tz": -420,
     "elapsed": 549,
     "user": {
      "displayName": "Minh Trí Nguyễn",
      "userId": "01251723066596770068"
     }
    }
   },
   "execution_count": 21,
   "outputs": []
  }
 ]
}
